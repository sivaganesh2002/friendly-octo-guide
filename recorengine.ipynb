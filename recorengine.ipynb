{
 "cells": [
  {
   "cell_type": "markdown",
   "id": "7eeac113",
   "metadata": {
    "papermill": {
     "duration": 0.010919,
     "end_time": "2023-09-02T19:17:14.980016",
     "exception": false,
     "start_time": "2023-09-02T19:17:14.969097",
     "status": "completed"
    },
    "tags": []
   },
   "source": [
    "##  type of recommender systems\n",
    "\n",
    "### demographic filtering\n",
    "gerneralized recommendations to every user, based on movie popularity, and/or genre.\n",
    "recommends same movies for users with similar demographic features.\n",
    "#### Too simple - since, every user is different\n",
    "\n",
    "### content based filtering\n",
    "#### If one like user like a item, he likes similar item\n",
    "system uses item metadata, (genre, director, description, actors...) to recommend.\n",
    "\n",
    "### Collaborative filtering\n",
    "matches users with similar interest, provide recommnedations based on matchings.\n",
    "no metadata required\n",
    "#### same interest, same recommendations\n",
    "\n",
    "leaned page:=https://www.kaggle.com/code/ibtesama/getting-started-with-a-movie-recommendation-system\n"
   ]
  },
  {
   "cell_type": "code",
   "execution_count": 1,
   "id": "a65bd670",
   "metadata": {
    "execution": {
     "iopub.execute_input": "2023-09-02T19:17:15.002830Z",
     "iopub.status.busy": "2023-09-02T19:17:15.002158Z",
     "iopub.status.idle": "2023-09-02T19:17:17.327452Z",
     "shell.execute_reply": "2023-09-02T19:17:17.326230Z"
    },
    "papermill": {
     "duration": 2.339759,
     "end_time": "2023-09-02T19:17:17.330260",
     "exception": false,
     "start_time": "2023-09-02T19:17:14.990501",
     "status": "completed"
    },
    "tags": []
   },
   "outputs": [
    {
     "name": "stderr",
     "output_type": "stream",
     "text": [
      "/opt/conda/lib/python3.10/site-packages/scipy/__init__.py:146: UserWarning: A NumPy version >=1.16.5 and <1.23.0 is required for this version of SciPy (detected version 1.23.5\n",
      "  warnings.warn(f\"A NumPy version >={np_minversion} and <{np_maxversion}\"\n"
     ]
    }
   ],
   "source": [
    "import pandas as pd\n",
    "import numpy as np\n",
    "import matplotlib.pyplot as plt\n",
    "from sklearn.feature_extraction.text import TfidfVectorizer\n",
    "from sklearn.metrics.pairwise import linear_kernel \n",
    "\n",
    "df1 = pd.read_csv('../input/tmdb-movie-metadata/tmdb_5000_credits.csv')\n",
    "df2 = pd.read_csv(\"../input/tmdb-movie-metadata/tmdb_5000_movies.csv\")"
   ]
  },
  {
   "cell_type": "markdown",
   "id": "6b3b1779",
   "metadata": {
    "papermill": {
     "duration": 0.010138,
     "end_time": "2023-09-02T19:17:17.351086",
     "exception": false,
     "start_time": "2023-09-02T19:17:17.340948",
     "status": "completed"
    },
    "tags": []
   },
   "source": [
    "# features in DataFrame df1 & df2\n",
    "df1 (DataFrame 1)\n",
    "- movie_id - ID for each movie\n",
    "- cast \n",
    "- crew\n",
    "\n",
    "df2 (DataFrame 2)\n",
    "- budget \n",
    "- genre\n",
    "- homepage - Link to homepage of the movie\n",
    "- id - ID for each movie (same as movie_id in df1)\n",
    "- keywords - keywords, tages related to movie\n",
    "- original_language - Original language\n",
    "- Original_title - title of movie before translation/adaptation\n",
    "- overview - description of the movie\n",
    "- popularity - A numerical quantity for movie popularity \n",
    "- production_companies - The production house\n",
    "- production_countries - Country of origin\n",
    "- release_date\n",
    "- revenue - ww revenue\n",
    "- runtime - in minutes\n",
    "- status - \"Released\" or \"Rumored\"\n",
    "- tagline - Movie's tagline\n",
    "- Title - Title of the movie\n",
    "- vote_average - average rating recieved\n",
    "- vote_count\n",
    "\n",
    "Joining df1, df2 on id column using [pandas.DataFrame.merge()](https://pandas.pydata.org/pandas-docs/stable/reference/api/pandas.DataFrame.merge.html)\n"
   ]
  },
  {
   "cell_type": "code",
   "execution_count": 2,
   "id": "35df1703",
   "metadata": {
    "execution": {
     "iopub.execute_input": "2023-09-02T19:17:17.375157Z",
     "iopub.status.busy": "2023-09-02T19:17:17.374744Z",
     "iopub.status.idle": "2023-09-02T19:17:17.405762Z",
     "shell.execute_reply": "2023-09-02T19:17:17.404856Z"
    },
    "papermill": {
     "duration": 0.045743,
     "end_time": "2023-09-02T19:17:17.408299",
     "exception": false,
     "start_time": "2023-09-02T19:17:17.362556",
     "status": "completed"
    },
    "tags": []
   },
   "outputs": [],
   "source": [
    "df1.columns = ['id', 'tittle', 'cast', 'crew']\n",
    "df2 = df2.merge(df1, on = 'id') "
   ]
  },
  {
   "cell_type": "markdown",
   "id": "228b7dd1",
   "metadata": {
    "papermill": {
     "duration": 0.010432,
     "end_time": "2023-09-02T19:17:17.430803",
     "exception": false,
     "start_time": "2023-09-02T19:17:17.420371",
     "status": "completed"
    },
    "tags": []
   },
   "source": [
    "peak our dataframe df2"
   ]
  },
  {
   "cell_type": "code",
   "execution_count": 3,
   "id": "d6659def",
   "metadata": {
    "execution": {
     "iopub.execute_input": "2023-09-02T19:17:17.454217Z",
     "iopub.status.busy": "2023-09-02T19:17:17.453225Z",
     "iopub.status.idle": "2023-09-02T19:17:17.486400Z",
     "shell.execute_reply": "2023-09-02T19:17:17.485319Z"
    },
    "papermill": {
     "duration": 0.048089,
     "end_time": "2023-09-02T19:17:17.489425",
     "exception": false,
     "start_time": "2023-09-02T19:17:17.441336",
     "status": "completed"
    },
    "tags": []
   },
   "outputs": [
    {
     "data": {
      "text/html": [
       "<div>\n",
       "<style scoped>\n",
       "    .dataframe tbody tr th:only-of-type {\n",
       "        vertical-align: middle;\n",
       "    }\n",
       "\n",
       "    .dataframe tbody tr th {\n",
       "        vertical-align: top;\n",
       "    }\n",
       "\n",
       "    .dataframe thead th {\n",
       "        text-align: right;\n",
       "    }\n",
       "</style>\n",
       "<table border=\"1\" class=\"dataframe\">\n",
       "  <thead>\n",
       "    <tr style=\"text-align: right;\">\n",
       "      <th></th>\n",
       "      <th>budget</th>\n",
       "      <th>genres</th>\n",
       "      <th>homepage</th>\n",
       "      <th>id</th>\n",
       "      <th>keywords</th>\n",
       "      <th>original_language</th>\n",
       "      <th>original_title</th>\n",
       "      <th>overview</th>\n",
       "      <th>popularity</th>\n",
       "      <th>production_companies</th>\n",
       "      <th>...</th>\n",
       "      <th>runtime</th>\n",
       "      <th>spoken_languages</th>\n",
       "      <th>status</th>\n",
       "      <th>tagline</th>\n",
       "      <th>title</th>\n",
       "      <th>vote_average</th>\n",
       "      <th>vote_count</th>\n",
       "      <th>tittle</th>\n",
       "      <th>cast</th>\n",
       "      <th>crew</th>\n",
       "    </tr>\n",
       "  </thead>\n",
       "  <tbody>\n",
       "    <tr>\n",
       "      <th>0</th>\n",
       "      <td>237000000</td>\n",
       "      <td>[{\"id\": 28, \"name\": \"Action\"}, {\"id\": 12, \"nam...</td>\n",
       "      <td>http://www.avatarmovie.com/</td>\n",
       "      <td>19995</td>\n",
       "      <td>[{\"id\": 1463, \"name\": \"culture clash\"}, {\"id\":...</td>\n",
       "      <td>en</td>\n",
       "      <td>Avatar</td>\n",
       "      <td>In the 22nd century, a paraplegic Marine is di...</td>\n",
       "      <td>150.437577</td>\n",
       "      <td>[{\"name\": \"Ingenious Film Partners\", \"id\": 289...</td>\n",
       "      <td>...</td>\n",
       "      <td>162.0</td>\n",
       "      <td>[{\"iso_639_1\": \"en\", \"name\": \"English\"}, {\"iso...</td>\n",
       "      <td>Released</td>\n",
       "      <td>Enter the World of Pandora.</td>\n",
       "      <td>Avatar</td>\n",
       "      <td>7.2</td>\n",
       "      <td>11800</td>\n",
       "      <td>Avatar</td>\n",
       "      <td>[{\"cast_id\": 242, \"character\": \"Jake Sully\", \"...</td>\n",
       "      <td>[{\"credit_id\": \"52fe48009251416c750aca23\", \"de...</td>\n",
       "    </tr>\n",
       "    <tr>\n",
       "      <th>1</th>\n",
       "      <td>300000000</td>\n",
       "      <td>[{\"id\": 12, \"name\": \"Adventure\"}, {\"id\": 14, \"...</td>\n",
       "      <td>http://disney.go.com/disneypictures/pirates/</td>\n",
       "      <td>285</td>\n",
       "      <td>[{\"id\": 270, \"name\": \"ocean\"}, {\"id\": 726, \"na...</td>\n",
       "      <td>en</td>\n",
       "      <td>Pirates of the Caribbean: At World's End</td>\n",
       "      <td>Captain Barbossa, long believed to be dead, ha...</td>\n",
       "      <td>139.082615</td>\n",
       "      <td>[{\"name\": \"Walt Disney Pictures\", \"id\": 2}, {\"...</td>\n",
       "      <td>...</td>\n",
       "      <td>169.0</td>\n",
       "      <td>[{\"iso_639_1\": \"en\", \"name\": \"English\"}]</td>\n",
       "      <td>Released</td>\n",
       "      <td>At the end of the world, the adventure begins.</td>\n",
       "      <td>Pirates of the Caribbean: At World's End</td>\n",
       "      <td>6.9</td>\n",
       "      <td>4500</td>\n",
       "      <td>Pirates of the Caribbean: At World's End</td>\n",
       "      <td>[{\"cast_id\": 4, \"character\": \"Captain Jack Spa...</td>\n",
       "      <td>[{\"credit_id\": \"52fe4232c3a36847f800b579\", \"de...</td>\n",
       "    </tr>\n",
       "    <tr>\n",
       "      <th>2</th>\n",
       "      <td>245000000</td>\n",
       "      <td>[{\"id\": 28, \"name\": \"Action\"}, {\"id\": 12, \"nam...</td>\n",
       "      <td>http://www.sonypictures.com/movies/spectre/</td>\n",
       "      <td>206647</td>\n",
       "      <td>[{\"id\": 470, \"name\": \"spy\"}, {\"id\": 818, \"name...</td>\n",
       "      <td>en</td>\n",
       "      <td>Spectre</td>\n",
       "      <td>A cryptic message from Bond’s past sends him o...</td>\n",
       "      <td>107.376788</td>\n",
       "      <td>[{\"name\": \"Columbia Pictures\", \"id\": 5}, {\"nam...</td>\n",
       "      <td>...</td>\n",
       "      <td>148.0</td>\n",
       "      <td>[{\"iso_639_1\": \"fr\", \"name\": \"Fran\\u00e7ais\"},...</td>\n",
       "      <td>Released</td>\n",
       "      <td>A Plan No One Escapes</td>\n",
       "      <td>Spectre</td>\n",
       "      <td>6.3</td>\n",
       "      <td>4466</td>\n",
       "      <td>Spectre</td>\n",
       "      <td>[{\"cast_id\": 1, \"character\": \"James Bond\", \"cr...</td>\n",
       "      <td>[{\"credit_id\": \"54805967c3a36829b5002c41\", \"de...</td>\n",
       "    </tr>\n",
       "    <tr>\n",
       "      <th>3</th>\n",
       "      <td>250000000</td>\n",
       "      <td>[{\"id\": 28, \"name\": \"Action\"}, {\"id\": 80, \"nam...</td>\n",
       "      <td>http://www.thedarkknightrises.com/</td>\n",
       "      <td>49026</td>\n",
       "      <td>[{\"id\": 849, \"name\": \"dc comics\"}, {\"id\": 853,...</td>\n",
       "      <td>en</td>\n",
       "      <td>The Dark Knight Rises</td>\n",
       "      <td>Following the death of District Attorney Harve...</td>\n",
       "      <td>112.312950</td>\n",
       "      <td>[{\"name\": \"Legendary Pictures\", \"id\": 923}, {\"...</td>\n",
       "      <td>...</td>\n",
       "      <td>165.0</td>\n",
       "      <td>[{\"iso_639_1\": \"en\", \"name\": \"English\"}]</td>\n",
       "      <td>Released</td>\n",
       "      <td>The Legend Ends</td>\n",
       "      <td>The Dark Knight Rises</td>\n",
       "      <td>7.6</td>\n",
       "      <td>9106</td>\n",
       "      <td>The Dark Knight Rises</td>\n",
       "      <td>[{\"cast_id\": 2, \"character\": \"Bruce Wayne / Ba...</td>\n",
       "      <td>[{\"credit_id\": \"52fe4781c3a36847f81398c3\", \"de...</td>\n",
       "    </tr>\n",
       "    <tr>\n",
       "      <th>4</th>\n",
       "      <td>260000000</td>\n",
       "      <td>[{\"id\": 28, \"name\": \"Action\"}, {\"id\": 12, \"nam...</td>\n",
       "      <td>http://movies.disney.com/john-carter</td>\n",
       "      <td>49529</td>\n",
       "      <td>[{\"id\": 818, \"name\": \"based on novel\"}, {\"id\":...</td>\n",
       "      <td>en</td>\n",
       "      <td>John Carter</td>\n",
       "      <td>John Carter is a war-weary, former military ca...</td>\n",
       "      <td>43.926995</td>\n",
       "      <td>[{\"name\": \"Walt Disney Pictures\", \"id\": 2}]</td>\n",
       "      <td>...</td>\n",
       "      <td>132.0</td>\n",
       "      <td>[{\"iso_639_1\": \"en\", \"name\": \"English\"}]</td>\n",
       "      <td>Released</td>\n",
       "      <td>Lost in our world, found in another.</td>\n",
       "      <td>John Carter</td>\n",
       "      <td>6.1</td>\n",
       "      <td>2124</td>\n",
       "      <td>John Carter</td>\n",
       "      <td>[{\"cast_id\": 5, \"character\": \"John Carter\", \"c...</td>\n",
       "      <td>[{\"credit_id\": \"52fe479ac3a36847f813eaa3\", \"de...</td>\n",
       "    </tr>\n",
       "  </tbody>\n",
       "</table>\n",
       "<p>5 rows × 23 columns</p>\n",
       "</div>"
      ],
      "text/plain": [
       "      budget                                             genres  \\\n",
       "0  237000000  [{\"id\": 28, \"name\": \"Action\"}, {\"id\": 12, \"nam...   \n",
       "1  300000000  [{\"id\": 12, \"name\": \"Adventure\"}, {\"id\": 14, \"...   \n",
       "2  245000000  [{\"id\": 28, \"name\": \"Action\"}, {\"id\": 12, \"nam...   \n",
       "3  250000000  [{\"id\": 28, \"name\": \"Action\"}, {\"id\": 80, \"nam...   \n",
       "4  260000000  [{\"id\": 28, \"name\": \"Action\"}, {\"id\": 12, \"nam...   \n",
       "\n",
       "                                       homepage      id  \\\n",
       "0                   http://www.avatarmovie.com/   19995   \n",
       "1  http://disney.go.com/disneypictures/pirates/     285   \n",
       "2   http://www.sonypictures.com/movies/spectre/  206647   \n",
       "3            http://www.thedarkknightrises.com/   49026   \n",
       "4          http://movies.disney.com/john-carter   49529   \n",
       "\n",
       "                                            keywords original_language  \\\n",
       "0  [{\"id\": 1463, \"name\": \"culture clash\"}, {\"id\":...                en   \n",
       "1  [{\"id\": 270, \"name\": \"ocean\"}, {\"id\": 726, \"na...                en   \n",
       "2  [{\"id\": 470, \"name\": \"spy\"}, {\"id\": 818, \"name...                en   \n",
       "3  [{\"id\": 849, \"name\": \"dc comics\"}, {\"id\": 853,...                en   \n",
       "4  [{\"id\": 818, \"name\": \"based on novel\"}, {\"id\":...                en   \n",
       "\n",
       "                             original_title  \\\n",
       "0                                    Avatar   \n",
       "1  Pirates of the Caribbean: At World's End   \n",
       "2                                   Spectre   \n",
       "3                     The Dark Knight Rises   \n",
       "4                               John Carter   \n",
       "\n",
       "                                            overview  popularity  \\\n",
       "0  In the 22nd century, a paraplegic Marine is di...  150.437577   \n",
       "1  Captain Barbossa, long believed to be dead, ha...  139.082615   \n",
       "2  A cryptic message from Bond’s past sends him o...  107.376788   \n",
       "3  Following the death of District Attorney Harve...  112.312950   \n",
       "4  John Carter is a war-weary, former military ca...   43.926995   \n",
       "\n",
       "                                production_companies  ... runtime  \\\n",
       "0  [{\"name\": \"Ingenious Film Partners\", \"id\": 289...  ...   162.0   \n",
       "1  [{\"name\": \"Walt Disney Pictures\", \"id\": 2}, {\"...  ...   169.0   \n",
       "2  [{\"name\": \"Columbia Pictures\", \"id\": 5}, {\"nam...  ...   148.0   \n",
       "3  [{\"name\": \"Legendary Pictures\", \"id\": 923}, {\"...  ...   165.0   \n",
       "4        [{\"name\": \"Walt Disney Pictures\", \"id\": 2}]  ...   132.0   \n",
       "\n",
       "                                    spoken_languages    status  \\\n",
       "0  [{\"iso_639_1\": \"en\", \"name\": \"English\"}, {\"iso...  Released   \n",
       "1           [{\"iso_639_1\": \"en\", \"name\": \"English\"}]  Released   \n",
       "2  [{\"iso_639_1\": \"fr\", \"name\": \"Fran\\u00e7ais\"},...  Released   \n",
       "3           [{\"iso_639_1\": \"en\", \"name\": \"English\"}]  Released   \n",
       "4           [{\"iso_639_1\": \"en\", \"name\": \"English\"}]  Released   \n",
       "\n",
       "                                          tagline  \\\n",
       "0                     Enter the World of Pandora.   \n",
       "1  At the end of the world, the adventure begins.   \n",
       "2                           A Plan No One Escapes   \n",
       "3                                 The Legend Ends   \n",
       "4            Lost in our world, found in another.   \n",
       "\n",
       "                                      title vote_average vote_count  \\\n",
       "0                                    Avatar          7.2      11800   \n",
       "1  Pirates of the Caribbean: At World's End          6.9       4500   \n",
       "2                                   Spectre          6.3       4466   \n",
       "3                     The Dark Knight Rises          7.6       9106   \n",
       "4                               John Carter          6.1       2124   \n",
       "\n",
       "                                     tittle  \\\n",
       "0                                    Avatar   \n",
       "1  Pirates of the Caribbean: At World's End   \n",
       "2                                   Spectre   \n",
       "3                     The Dark Knight Rises   \n",
       "4                               John Carter   \n",
       "\n",
       "                                                cast  \\\n",
       "0  [{\"cast_id\": 242, \"character\": \"Jake Sully\", \"...   \n",
       "1  [{\"cast_id\": 4, \"character\": \"Captain Jack Spa...   \n",
       "2  [{\"cast_id\": 1, \"character\": \"James Bond\", \"cr...   \n",
       "3  [{\"cast_id\": 2, \"character\": \"Bruce Wayne / Ba...   \n",
       "4  [{\"cast_id\": 5, \"character\": \"John Carter\", \"c...   \n",
       "\n",
       "                                                crew  \n",
       "0  [{\"credit_id\": \"52fe48009251416c750aca23\", \"de...  \n",
       "1  [{\"credit_id\": \"52fe4232c3a36847f800b579\", \"de...  \n",
       "2  [{\"credit_id\": \"54805967c3a36829b5002c41\", \"de...  \n",
       "3  [{\"credit_id\": \"52fe4781c3a36847f81398c3\", \"de...  \n",
       "4  [{\"credit_id\": \"52fe479ac3a36847f813eaa3\", \"de...  \n",
       "\n",
       "[5 rows x 23 columns]"
      ]
     },
     "execution_count": 3,
     "metadata": {},
     "output_type": "execute_result"
    }
   ],
   "source": [
    "df2.head()"
   ]
  },
  {
   "cell_type": "markdown",
   "id": "c29a9b58",
   "metadata": {
    "papermill": {
     "duration": 0.010497,
     "end_time": "2023-09-02T19:17:17.511173",
     "exception": false,
     "start_time": "2023-09-02T19:17:17.500676",
     "status": "completed"
    },
    "tags": []
   },
   "source": [
    "## Demographic filtering\n",
    "\n",
    "- metric to rate movie\n",
    "- rate for every movie\n",
    "- sort rates & rec best rated movie to users\n",
    "\n",
    "#### Average ratings\n",
    "\n",
    "- wr := weighted rating\n",
    "- v (vote_count) := no. of votes\n",
    "- m := min vote required to be listed in chart\n",
    "- R (vote_average) := avg rating\n",
    "- C := mean vote across whole movie dataset\n",
    "\n",
    "$$wr = \\left(\\frac{v}{v+m}{.}R\\right)+\\left(\\frac{m}{v+m}{.}C\\right)$$\n",
    "\n"
   ]
  },
  {
   "cell_type": "code",
   "execution_count": 4,
   "id": "30abed38",
   "metadata": {
    "execution": {
     "iopub.execute_input": "2023-09-02T19:17:17.535208Z",
     "iopub.status.busy": "2023-09-02T19:17:17.534772Z",
     "iopub.status.idle": "2023-09-02T19:17:17.542991Z",
     "shell.execute_reply": "2023-09-02T19:17:17.541853Z"
    },
    "papermill": {
     "duration": 0.023343,
     "end_time": "2023-09-02T19:17:17.545494",
     "exception": false,
     "start_time": "2023-09-02T19:17:17.522151",
     "status": "completed"
    },
    "tags": []
   },
   "outputs": [
    {
     "data": {
      "text/plain": [
       "6.092171559442016"
      ]
     },
     "execution_count": 4,
     "metadata": {},
     "output_type": "execute_result"
    }
   ],
   "source": [
    "# C = mean of df2[\"vote_average\"]\n",
    "C = df2[\"vote_average\"].mean()\n",
    "C"
   ]
  },
  {
   "cell_type": "markdown",
   "id": "564dfacb",
   "metadata": {
    "papermill": {
     "duration": 0.011017,
     "end_time": "2023-09-02T19:17:17.568167",
     "exception": false,
     "start_time": "2023-09-02T19:17:17.557150",
     "status": "completed"
    },
    "tags": []
   },
   "source": [
    "#### m (min vote req) \n",
    "movie m_i(v) > 90% v of other movies\n"
   ]
  },
  {
   "cell_type": "code",
   "execution_count": 5,
   "id": "4b4dd406",
   "metadata": {
    "execution": {
     "iopub.execute_input": "2023-09-02T19:17:17.593030Z",
     "iopub.status.busy": "2023-09-02T19:17:17.592239Z",
     "iopub.status.idle": "2023-09-02T19:17:17.603243Z",
     "shell.execute_reply": "2023-09-02T19:17:17.602150Z"
    },
    "papermill": {
     "duration": 0.026161,
     "end_time": "2023-09-02T19:17:17.605621",
     "exception": false,
     "start_time": "2023-09-02T19:17:17.579460",
     "status": "completed"
    },
    "tags": []
   },
   "outputs": [
    {
     "data": {
      "text/plain": [
       "1838.4000000000015"
      ]
     },
     "execution_count": 5,
     "metadata": {},
     "output_type": "execute_result"
    }
   ],
   "source": [
    "# m = mean rating 90th percentile as cutoff\n",
    "m = df2[\"vote_count\"].quantile(.9)\n",
    "m"
   ]
  },
  {
   "cell_type": "markdown",
   "id": "19037cb5",
   "metadata": {
    "papermill": {
     "duration": 0.011102,
     "end_time": "2023-09-02T19:17:17.628173",
     "exception": false,
     "start_time": "2023-09-02T19:17:17.617071",
     "status": "completed"
    },
    "tags": []
   },
   "source": [
    "filtering out movie based on qualifying"
   ]
  },
  {
   "cell_type": "code",
   "execution_count": 6,
   "id": "232cfb49",
   "metadata": {
    "execution": {
     "iopub.execute_input": "2023-09-02T19:17:17.653517Z",
     "iopub.status.busy": "2023-09-02T19:17:17.652417Z",
     "iopub.status.idle": "2023-09-02T19:17:17.665340Z",
     "shell.execute_reply": "2023-09-02T19:17:17.664222Z"
    },
    "papermill": {
     "duration": 0.028226,
     "end_time": "2023-09-02T19:17:17.667928",
     "exception": false,
     "start_time": "2023-09-02T19:17:17.639702",
     "status": "completed"
    },
    "tags": []
   },
   "outputs": [
    {
     "data": {
      "text/plain": [
       "(481, 23)"
      ]
     },
     "execution_count": 6,
     "metadata": {},
     "output_type": "execute_result"
    }
   ],
   "source": [
    "q_ = df2.copy().loc[df2[\"vote_count\"] >= m]\n",
    "q_.shape"
   ]
  },
  {
   "cell_type": "markdown",
   "id": "db8a0ffc",
   "metadata": {
    "papermill": {
     "duration": 0.011498,
     "end_time": "2023-09-02T19:17:17.690981",
     "exception": false,
     "start_time": "2023-09-02T19:17:17.679483",
     "status": "completed"
    },
    "tags": []
   },
   "source": [
    "#### metric for movie\n"
   ]
  },
  {
   "cell_type": "code",
   "execution_count": 7,
   "id": "e1236f90",
   "metadata": {
    "execution": {
     "iopub.execute_input": "2023-09-02T19:17:17.717131Z",
     "iopub.status.busy": "2023-09-02T19:17:17.716688Z",
     "iopub.status.idle": "2023-09-02T19:17:17.722742Z",
     "shell.execute_reply": "2023-09-02T19:17:17.721536Z"
    },
    "papermill": {
     "duration": 0.022581,
     "end_time": "2023-09-02T19:17:17.725119",
     "exception": false,
     "start_time": "2023-09-02T19:17:17.702538",
     "status": "completed"
    },
    "tags": []
   },
   "outputs": [],
   "source": [
    "# weighted rating \n",
    "def weighted_rating (x, m=m, C=C):\n",
    "    v = x[\"vote_count\"]\n",
    "    R = x[\"vote_average\"]\n",
    "    #calculate IMDB formula\n",
    "    return (v/(v+m)*R + m/(v+m)*C)"
   ]
  },
  {
   "cell_type": "code",
   "execution_count": 8,
   "id": "3971b4c7",
   "metadata": {
    "execution": {
     "iopub.execute_input": "2023-09-02T19:17:17.750890Z",
     "iopub.status.busy": "2023-09-02T19:17:17.750445Z",
     "iopub.status.idle": "2023-09-02T19:17:17.782044Z",
     "shell.execute_reply": "2023-09-02T19:17:17.780908Z"
    },
    "papermill": {
     "duration": 0.047174,
     "end_time": "2023-09-02T19:17:17.784354",
     "exception": false,
     "start_time": "2023-09-02T19:17:17.737180",
     "status": "completed"
    },
    "tags": []
   },
   "outputs": [
    {
     "data": {
      "text/html": [
       "<div>\n",
       "<style scoped>\n",
       "    .dataframe tbody tr th:only-of-type {\n",
       "        vertical-align: middle;\n",
       "    }\n",
       "\n",
       "    .dataframe tbody tr th {\n",
       "        vertical-align: top;\n",
       "    }\n",
       "\n",
       "    .dataframe thead th {\n",
       "        text-align: right;\n",
       "    }\n",
       "</style>\n",
       "<table border=\"1\" class=\"dataframe\">\n",
       "  <thead>\n",
       "    <tr style=\"text-align: right;\">\n",
       "      <th></th>\n",
       "      <th>title</th>\n",
       "      <th>vote_count</th>\n",
       "      <th>vote_average</th>\n",
       "      <th>score</th>\n",
       "    </tr>\n",
       "  </thead>\n",
       "  <tbody>\n",
       "    <tr>\n",
       "      <th>1881</th>\n",
       "      <td>The Shawshank Redemption</td>\n",
       "      <td>8205</td>\n",
       "      <td>8.5</td>\n",
       "      <td>8.059258</td>\n",
       "    </tr>\n",
       "    <tr>\n",
       "      <th>662</th>\n",
       "      <td>Fight Club</td>\n",
       "      <td>9413</td>\n",
       "      <td>8.3</td>\n",
       "      <td>7.939256</td>\n",
       "    </tr>\n",
       "    <tr>\n",
       "      <th>65</th>\n",
       "      <td>The Dark Knight</td>\n",
       "      <td>12002</td>\n",
       "      <td>8.2</td>\n",
       "      <td>7.920020</td>\n",
       "    </tr>\n",
       "    <tr>\n",
       "      <th>3232</th>\n",
       "      <td>Pulp Fiction</td>\n",
       "      <td>8428</td>\n",
       "      <td>8.3</td>\n",
       "      <td>7.904645</td>\n",
       "    </tr>\n",
       "    <tr>\n",
       "      <th>96</th>\n",
       "      <td>Inception</td>\n",
       "      <td>13752</td>\n",
       "      <td>8.1</td>\n",
       "      <td>7.863239</td>\n",
       "    </tr>\n",
       "    <tr>\n",
       "      <th>3337</th>\n",
       "      <td>The Godfather</td>\n",
       "      <td>5893</td>\n",
       "      <td>8.4</td>\n",
       "      <td>7.851236</td>\n",
       "    </tr>\n",
       "    <tr>\n",
       "      <th>95</th>\n",
       "      <td>Interstellar</td>\n",
       "      <td>10867</td>\n",
       "      <td>8.1</td>\n",
       "      <td>7.809479</td>\n",
       "    </tr>\n",
       "    <tr>\n",
       "      <th>809</th>\n",
       "      <td>Forrest Gump</td>\n",
       "      <td>7927</td>\n",
       "      <td>8.2</td>\n",
       "      <td>7.803188</td>\n",
       "    </tr>\n",
       "    <tr>\n",
       "      <th>329</th>\n",
       "      <td>The Lord of the Rings: The Return of the King</td>\n",
       "      <td>8064</td>\n",
       "      <td>8.1</td>\n",
       "      <td>7.727243</td>\n",
       "    </tr>\n",
       "    <tr>\n",
       "      <th>1990</th>\n",
       "      <td>The Empire Strikes Back</td>\n",
       "      <td>5879</td>\n",
       "      <td>8.2</td>\n",
       "      <td>7.697884</td>\n",
       "    </tr>\n",
       "    <tr>\n",
       "      <th>262</th>\n",
       "      <td>The Lord of the Rings: The Fellowship of the Ring</td>\n",
       "      <td>8705</td>\n",
       "      <td>8.0</td>\n",
       "      <td>7.667341</td>\n",
       "    </tr>\n",
       "    <tr>\n",
       "      <th>2912</th>\n",
       "      <td>Star Wars</td>\n",
       "      <td>6624</td>\n",
       "      <td>8.1</td>\n",
       "      <td>7.663813</td>\n",
       "    </tr>\n",
       "    <tr>\n",
       "      <th>1818</th>\n",
       "      <td>Schindler's List</td>\n",
       "      <td>4329</td>\n",
       "      <td>8.3</td>\n",
       "      <td>7.641883</td>\n",
       "    </tr>\n",
       "    <tr>\n",
       "      <th>3865</th>\n",
       "      <td>Whiplash</td>\n",
       "      <td>4254</td>\n",
       "      <td>8.3</td>\n",
       "      <td>7.633781</td>\n",
       "    </tr>\n",
       "    <tr>\n",
       "      <th>330</th>\n",
       "      <td>The Lord of the Rings: The Two Towers</td>\n",
       "      <td>7487</td>\n",
       "      <td>8.0</td>\n",
       "      <td>7.623893</td>\n",
       "    </tr>\n",
       "    <tr>\n",
       "      <th>1553</th>\n",
       "      <td>Se7en</td>\n",
       "      <td>5765</td>\n",
       "      <td>8.1</td>\n",
       "      <td>7.614534</td>\n",
       "    </tr>\n",
       "    <tr>\n",
       "      <th>94</th>\n",
       "      <td>Guardians of the Galaxy</td>\n",
       "      <td>9742</td>\n",
       "      <td>7.9</td>\n",
       "      <td>7.613005</td>\n",
       "    </tr>\n",
       "    <tr>\n",
       "      <th>634</th>\n",
       "      <td>The Matrix</td>\n",
       "      <td>8907</td>\n",
       "      <td>7.9</td>\n",
       "      <td>7.590704</td>\n",
       "    </tr>\n",
       "  </tbody>\n",
       "</table>\n",
       "</div>"
      ],
      "text/plain": [
       "                                                  title  vote_count  \\\n",
       "1881                           The Shawshank Redemption        8205   \n",
       "662                                          Fight Club        9413   \n",
       "65                                      The Dark Knight       12002   \n",
       "3232                                       Pulp Fiction        8428   \n",
       "96                                            Inception       13752   \n",
       "3337                                      The Godfather        5893   \n",
       "95                                         Interstellar       10867   \n",
       "809                                        Forrest Gump        7927   \n",
       "329       The Lord of the Rings: The Return of the King        8064   \n",
       "1990                            The Empire Strikes Back        5879   \n",
       "262   The Lord of the Rings: The Fellowship of the Ring        8705   \n",
       "2912                                          Star Wars        6624   \n",
       "1818                                   Schindler's List        4329   \n",
       "3865                                           Whiplash        4254   \n",
       "330               The Lord of the Rings: The Two Towers        7487   \n",
       "1553                                              Se7en        5765   \n",
       "94                              Guardians of the Galaxy        9742   \n",
       "634                                          The Matrix        8907   \n",
       "\n",
       "      vote_average     score  \n",
       "1881           8.5  8.059258  \n",
       "662            8.3  7.939256  \n",
       "65             8.2  7.920020  \n",
       "3232           8.3  7.904645  \n",
       "96             8.1  7.863239  \n",
       "3337           8.4  7.851236  \n",
       "95             8.1  7.809479  \n",
       "809            8.2  7.803188  \n",
       "329            8.1  7.727243  \n",
       "1990           8.2  7.697884  \n",
       "262            8.0  7.667341  \n",
       "2912           8.1  7.663813  \n",
       "1818           8.3  7.641883  \n",
       "3865           8.3  7.633781  \n",
       "330            8.0  7.623893  \n",
       "1553           8.1  7.614534  \n",
       "94             7.9  7.613005  \n",
       "634            7.9  7.590704  "
      ]
     },
     "execution_count": 8,
     "metadata": {},
     "output_type": "execute_result"
    }
   ],
   "source": [
    "# define new feature \"score\" & \n",
    "# calculate its value with weighted_rating\n",
    "q_[\"score\"] = q_.apply(weighted_rating, axis=1)\n",
    "\n",
    "# sort movie based on score\n",
    "q_ = q_.sort_values(\"score\", ascending=False)\n",
    "q_[[\"title\", \"vote_count\", \"vote_average\", \"score\"]].head(18)"
   ]
  },
  {
   "cell_type": "markdown",
   "id": "9ae32739",
   "metadata": {
    "papermill": {
     "duration": 0.011859,
     "end_time": "2023-09-02T19:17:17.808367",
     "exception": false,
     "start_time": "2023-09-02T19:17:17.796508",
     "status": "completed"
    },
    "tags": []
   },
   "source": []
  },
  {
   "cell_type": "code",
   "execution_count": 9,
   "id": "3acdf5a8",
   "metadata": {
    "execution": {
     "iopub.execute_input": "2023-09-02T19:17:17.834855Z",
     "iopub.status.busy": "2023-09-02T19:17:17.833632Z",
     "iopub.status.idle": "2023-09-02T19:17:18.142043Z",
     "shell.execute_reply": "2023-09-02T19:17:18.141207Z"
    },
    "papermill": {
     "duration": 0.324209,
     "end_time": "2023-09-02T19:17:18.144494",
     "exception": false,
     "start_time": "2023-09-02T19:17:17.820285",
     "status": "completed"
    },
    "tags": []
   },
   "outputs": [
    {
     "data": {
      "text/plain": [
       "Text(0, 0.5, 'popular movies')"
      ]
     },
     "execution_count": 9,
     "metadata": {},
     "output_type": "execute_result"
    },
    {
     "data": {
      "image/png": "[encoded data removed]",
      "text/plain": [
       "<Figure size 1200x400 with 1 Axes>"
      ]
     },
     "metadata": {},
     "output_type": "display_data"
    }
   ],
   "source": [
    "pop = df2.sort_values(\"popularity\", ascending=False)\n",
    "\n",
    "plt.figure(figsize=(12,4))\n",
    "x = 6\n",
    "plt.barh(pop[\"title\"].head(x), pop[\"popularity\"].head(x), \n",
    "         align=\"edge\", color=\"skyblue\")\n",
    "\n",
    "plt.gca().invert_yaxis()\n",
    "plt.xlabel(\"popularity\")\n",
    "plt.ylabel(\"popular movies\")"
   ]
  },
  {
   "cell_type": "markdown",
   "id": "4bd91fe9",
   "metadata": {
    "papermill": {
     "duration": 0.012478,
     "end_time": "2023-09-02T19:17:18.169854",
     "exception": false,
     "start_time": "2023-09-02T19:17:18.157376",
     "status": "completed"
    },
    "tags": []
   },
   "source": [
    "# Content based filtering\n",
    "To recommend similar movies "
   ]
  },
  {
   "cell_type": "code",
   "execution_count": 10,
   "id": "0230a5bd",
   "metadata": {
    "execution": {
     "iopub.execute_input": "2023-09-02T19:17:18.197404Z",
     "iopub.status.busy": "2023-09-02T19:17:18.196990Z",
     "iopub.status.idle": "2023-09-02T19:17:18.212656Z",
     "shell.execute_reply": "2023-09-02T19:17:18.211106Z"
    },
    "papermill": {
     "duration": 0.032455,
     "end_time": "2023-09-02T19:17:18.215134",
     "exception": false,
     "start_time": "2023-09-02T19:17:18.182679",
     "status": "completed"
    },
    "tags": []
   },
   "outputs": [
    {
     "data": {
      "text/html": [
       "<div>\n",
       "<style scoped>\n",
       "    .dataframe tbody tr th:only-of-type {\n",
       "        vertical-align: middle;\n",
       "    }\n",
       "\n",
       "    .dataframe tbody tr th {\n",
       "        vertical-align: top;\n",
       "    }\n",
       "\n",
       "    .dataframe thead th {\n",
       "        text-align: right;\n",
       "    }\n",
       "</style>\n",
       "<table border=\"1\" class=\"dataframe\">\n",
       "  <thead>\n",
       "    <tr style=\"text-align: right;\">\n",
       "      <th></th>\n",
       "      <th>overview</th>\n",
       "      <th>title</th>\n",
       "    </tr>\n",
       "  </thead>\n",
       "  <tbody>\n",
       "    <tr>\n",
       "      <th>0</th>\n",
       "      <td>In the 22nd century, a paraplegic Marine is di...</td>\n",
       "      <td>Avatar</td>\n",
       "    </tr>\n",
       "    <tr>\n",
       "      <th>1</th>\n",
       "      <td>Captain Barbossa, long believed to be dead, ha...</td>\n",
       "      <td>Pirates of the Caribbean: At World's End</td>\n",
       "    </tr>\n",
       "    <tr>\n",
       "      <th>2</th>\n",
       "      <td>A cryptic message from Bond’s past sends him o...</td>\n",
       "      <td>Spectre</td>\n",
       "    </tr>\n",
       "    <tr>\n",
       "      <th>3</th>\n",
       "      <td>Following the death of District Attorney Harve...</td>\n",
       "      <td>The Dark Knight Rises</td>\n",
       "    </tr>\n",
       "    <tr>\n",
       "      <th>4</th>\n",
       "      <td>John Carter is a war-weary, former military ca...</td>\n",
       "      <td>John Carter</td>\n",
       "    </tr>\n",
       "  </tbody>\n",
       "</table>\n",
       "</div>"
      ],
      "text/plain": [
       "                                            overview  \\\n",
       "0  In the 22nd century, a paraplegic Marine is di...   \n",
       "1  Captain Barbossa, long believed to be dead, ha...   \n",
       "2  A cryptic message from Bond’s past sends him o...   \n",
       "3  Following the death of District Attorney Harve...   \n",
       "4  John Carter is a war-weary, former military ca...   \n",
       "\n",
       "                                      title  \n",
       "0                                    Avatar  \n",
       "1  Pirates of the Caribbean: At World's End  \n",
       "2                                   Spectre  \n",
       "3                     The Dark Knight Rises  \n",
       "4                               John Carter  "
      ]
     },
     "execution_count": 10,
     "metadata": {},
     "output_type": "execute_result"
    }
   ],
   "source": [
    "df2[[\"overview\", \"title\"]].head()"
   ]
  },
  {
   "cell_type": "markdown",
   "id": "2634c81d",
   "metadata": {
    "papermill": {
     "duration": 0.012524,
     "end_time": "2023-09-02T19:17:18.240573",
     "exception": false,
     "start_time": "2023-09-02T19:17:18.228049",
     "status": "completed"
    },
    "tags": []
   },
   "source": [
    "#### Plot desciption based recommender\n"
   ]
  },
  {
   "cell_type": "markdown",
   "id": "eac24188",
   "metadata": {
    "papermill": {
     "duration": 0.012513,
     "end_time": "2023-09-02T19:17:18.266104",
     "exception": false,
     "start_time": "2023-09-02T19:17:18.253591",
     "status": "completed"
    },
    "tags": []
   },
   "source": [
    "convert word vector \n",
    "\n",
    "compute Term Frequency-Inverse Document Frequency (TF-IDF) vectors\n",
    "\n",
    "rel. f - of a word in doc \n",
    " $$TF = \\frac{term instances}{total instances}$$\n",
    "\n",
    "do f - rel. count of docs containing the term - **IDF**\n",
    " = $$IDF = log \\left(\\frac{no. of doc}{doc with term}\\right)$$\n",
    " \n",
    "$$overall\\hspace{.4em}importance = TF * IDF$$\n",
    "\n",
    "=> matrix\n",
    "column - contains all words in all doc\n",
    "row - movie\n",
    "* done to reduce importance of words occuring frequently in overviews and (final) **similarity score**\n",
    "\n",
    "scikit-learn -> sklearn.feature_extraction.text - TfidfVectorizer"
   ]
  },
  {
   "cell_type": "code",
   "execution_count": 11,
   "id": "c94d8f1c",
   "metadata": {
    "execution": {
     "iopub.execute_input": "2023-09-02T19:17:18.294582Z",
     "iopub.status.busy": "2023-09-02T19:17:18.294113Z",
     "iopub.status.idle": "2023-09-02T19:17:18.689373Z",
     "shell.execute_reply": "2023-09-02T19:17:18.688582Z"
    },
    "papermill": {
     "duration": 0.412115,
     "end_time": "2023-09-02T19:17:18.691776",
     "exception": false,
     "start_time": "2023-09-02T19:17:18.279661",
     "status": "completed"
    },
    "tags": []
   },
   "outputs": [
    {
     "data": {
      "text/plain": [
       "(4803, 20978)"
      ]
     },
     "execution_count": 11,
     "metadata": {},
     "output_type": "execute_result"
    }
   ],
   "source": [
    "\n",
    "\n",
    "# def TF_IDF vectorizer obj. rm all english stop words (the, a )  \n",
    "tfidf = TfidfVectorizer(stop_words = \"english\")\n",
    "\n",
    "# replace NaN with empty string\n",
    "df2[\"overview\"] = df2[\"overview\"].fillna('')\n",
    "\n",
    "# construct req TF-IDF matrix- fit & transform data\n",
    "\n",
    "tfidf_mat = tfidf.fit_transform(df2[\"overview\"])\n",
    "\n",
    "# o/p shape of tfidf_mat\n",
    "tfidf_mat.shape"
   ]
  },
  {
   "cell_type": "markdown",
   "id": "c11a3718",
   "metadata": {
    "papermill": {
     "duration": 0.012675,
     "end_time": "2023-09-02T19:17:18.717564",
     "exception": false,
     "start_time": "2023-09-02T19:17:18.704889",
     "status": "completed"
    },
    "tags": []
   },
   "source": [
    "(4803, 20978)\n",
    "20, 978 diff words in overviews of 4803 movies\n",
    "\n",
    "### similarity score\n",
    "- euclidean \n",
    "- pearson\n",
    "- cosine similarity score\n",
    "\n",
    "### cosine similarity score\n",
    "$$similarity=cos(\\theta)=\\frac{A.B}{||A||.||B||}$$\n",
    "$$\\frac{\\sum_{i=1}^{n}A_i.B_i}{\\sqrt{\\sum_{i=1}^{n}A_1^2}.{\\sqrt{\\sum_{i=1}^{n}B_i^2}}}$$\n",
    "\n",
    "TF-IDF vectorizer -> dot product give cosine similarity score\n",
    "\n",
    "*sklearn linear_kernal(), than cosine_similarities()* {fast} "
   ]
  },
  {
   "cell_type": "code",
   "execution_count": 12,
   "id": "21f56766",
   "metadata": {
    "execution": {
     "iopub.execute_input": "2023-09-02T19:17:18.746044Z",
     "iopub.status.busy": "2023-09-02T19:17:18.745612Z",
     "iopub.status.idle": "2023-09-02T19:17:19.237730Z",
     "shell.execute_reply": "2023-09-02T19:17:19.236836Z"
    },
    "papermill": {
     "duration": 0.509261,
     "end_time": "2023-09-02T19:17:19.240222",
     "exception": false,
     "start_time": "2023-09-02T19:17:18.730961",
     "status": "completed"
    },
    "tags": []
   },
   "outputs": [
    {
     "data": {
      "text/plain": [
       "(4803, 4803)"
      ]
     },
     "execution_count": 12,
     "metadata": {},
     "output_type": "execute_result"
    }
   ],
   "source": [
    "# compute cosine similarity score\n",
    "\n",
    "cos_sim = linear_kernel (tfidf_mat, tfidf_mat)\n",
    "cos_sim.shape"
   ]
  },
  {
   "cell_type": "markdown",
   "id": "fade6210",
   "metadata": {
    "papermill": {
     "duration": 0.013284,
     "end_time": "2023-09-02T19:17:19.266930",
     "exception": false,
     "start_time": "2023-09-02T19:17:19.253646",
     "status": "completed"
    },
    "tags": []
   },
   "source": [
    "def a function, f(movie title) = o/p 10 similar movies\n",
    "\n",
    "- reverse mappin of movie title <-> df indices "
   ]
  },
  {
   "cell_type": "code",
   "execution_count": 13,
   "id": "4d73bc7d",
   "metadata": {
    "execution": {
     "iopub.execute_input": "2023-09-02T19:17:19.295927Z",
     "iopub.status.busy": "2023-09-02T19:17:19.294942Z",
     "iopub.status.idle": "2023-09-02T19:17:19.310426Z",
     "shell.execute_reply": "2023-09-02T19:17:19.309324Z"
    },
    "papermill": {
     "duration": 0.032362,
     "end_time": "2023-09-02T19:17:19.312795",
     "exception": false,
     "start_time": "2023-09-02T19:17:19.280433",
     "status": "completed"
    },
    "tags": []
   },
   "outputs": [
    {
     "data": {
      "text/plain": [
       "title\n",
       "Avatar                                         0\n",
       "Pirates of the Caribbean: At World's End       1\n",
       "Spectre                                        2\n",
       "The Dark Knight Rises                          3\n",
       "John Carter                                    4\n",
       "                                            ... \n",
       "El Mariachi                                 4798\n",
       "Newlyweds                                   4799\n",
       "Signed, Sealed, Delivered                   4800\n",
       "Shanghai Calling                            4801\n",
       "My Date with Drew                           4802\n",
       "Length: 4803, dtype: int64"
      ]
     },
     "execution_count": 13,
     "metadata": {},
     "output_type": "execute_result"
    }
   ],
   "source": [
    "# rev map of indices & movie title \n",
    "indices = pd.Series(df2.index, index = df2[\"title\"]).drop_duplicates()\n",
    "\n",
    "indices"
   ]
  },
  {
   "cell_type": "markdown",
   "id": "52a95aef",
   "metadata": {
    "papermill": {
     "duration": 0.013135,
     "end_time": "2023-09-02T19:17:19.339790",
     "exception": false,
     "start_time": "2023-09-02T19:17:19.326655",
     "status": "completed"
    },
    "tags": []
   },
   "source": [
    "## define  recommender function\n",
    "- get id of movie from title\n",
    "- cos similarity score for a movie with all movie\n",
    "    - convert it to list of tuples, (pos, score)\n",
    "- sort on score\n",
    "- get top x+1 elements of list, first movie would be itself based of similarity score\n",
    "- return title corr id of top x +1 elements "
   ]
  },
  {
   "cell_type": "code",
   "execution_count": 14,
   "id": "c5dc983a",
   "metadata": {
    "execution": {
     "iopub.execute_input": "2023-09-02T19:17:19.368854Z",
     "iopub.status.busy": "2023-09-02T19:17:19.368288Z",
     "iopub.status.idle": "2023-09-02T19:17:19.377095Z",
     "shell.execute_reply": "2023-09-02T19:17:19.376006Z"
    },
    "papermill": {
     "duration": 0.026246,
     "end_time": "2023-09-02T19:17:19.379368",
     "exception": false,
     "start_time": "2023-09-02T19:17:19.353122",
     "status": "completed"
    },
    "tags": []
   },
   "outputs": [],
   "source": [
    "# f (title, x) = x+1 most similar movies\n",
    "def rec(title, score = cos_sim, x=10, indices = indices):\n",
    "    \"\"\"\n",
    "    param:\n",
    "    - title, string, title of the movie\n",
    "    - score | = cos_sim - cosine similarity score\n",
    "    - x | = 10, no. of title to be recommended  \n",
    "    \"\"\"\n",
    "    # Get movie ID matching title \n",
    "    idx = indices[title]\n",
    "    \n",
    "    # Get pairwise sim scores of all movies with movie[idx]\n",
    "    score = list(enumerate(score[idx]))\n",
    "    \n",
    "    # sort movie on score\n",
    "    score = sorted(score, key=(lambda x : x[1]), reverse=True )\n",
    "    \n",
    "    # get scores of 10 most similar movies\n",
    "    score = score[1:x+1]\n",
    "    \n",
    "    # get ID\n",
    "    indices = [mi[0] for mi in score]\n",
    "    \n",
    "    # return list\n",
    "    return df2[\"title\"].iloc[indices]"
   ]
  },
  {
   "cell_type": "code",
   "execution_count": 15,
   "id": "671736ee",
   "metadata": {
    "execution": {
     "iopub.execute_input": "2023-09-02T19:17:19.409299Z",
     "iopub.status.busy": "2023-09-02T19:17:19.408221Z",
     "iopub.status.idle": "2023-09-02T19:17:19.420852Z",
     "shell.execute_reply": "2023-09-02T19:17:19.419763Z"
    },
    "papermill": {
     "duration": 0.029766,
     "end_time": "2023-09-02T19:17:19.423149",
     "exception": false,
     "start_time": "2023-09-02T19:17:19.393383",
     "status": "completed"
    },
    "tags": []
   },
   "outputs": [
    {
     "data": {
      "text/plain": [
       "3604                       Apollo 18\n",
       "2130                    The American\n",
       "634                       The Matrix\n",
       "1341            The Inhabited Island\n",
       "529                 Tears of the Sun\n",
       "1610                           Hanna\n",
       "311     The Adventures of Pluto Nash\n",
       "847                         Semi-Pro\n",
       "775                        Supernova\n",
       "2628             Blood and Chocolate\n",
       "Name: title, dtype: object"
      ]
     },
     "execution_count": 15,
     "metadata": {},
     "output_type": "execute_result"
    }
   ],
   "source": [
    "rec(\"Avatar\")\n"
   ]
  },
  {
   "cell_type": "markdown",
   "id": "d1193b29",
   "metadata": {
    "papermill": {
     "duration": 0.013314,
     "end_time": "2023-09-02T19:17:19.450369",
     "exception": false,
     "start_time": "2023-09-02T19:17:19.437055",
     "status": "completed"
    },
    "tags": []
   },
   "source": []
  }
 ],
 "kernelspec": {
  "display_name": "Python 3",
  "language": "python",
  "name": "python3"
 },
 "language_info": {
  "codemirror_mode": {
   "name": "ipython",
   "version": 3
  },
  "file_extension": ".py",
  "mimetype": "text/x-python",
  "name": "python",
  "nbconvert_exporter": "python",
  "pygments_lexer": "ipython3",
  "version": "3.6.4"
 },
 "metadata": {
  "kernelspec": {
   "display_name": "Python 3",
   "language": "python",
   "name": "python3"
  },
  "language_info": {
   "codemirror_mode": {
    "name": "ipython",
    "version": 3
   },
   "file_extension": ".py",
   "mimetype": "text/x-python",
   "name": "python",
   "nbconvert_exporter": "python",
   "pygments_lexer": "ipython3",
   "version": "3.10.12"
  },
  "papermill": {
   "default_parameters": {},
   "duration": 16.843505,
   "end_time": "2023-09-02T19:17:20.386255",
   "environment_variables": {},
   "exception": null,
   "input_path": "__notebook__.ipynb",
   "output_path": "__notebook__.ipynb",
   "parameters": {},
   "start_time": "2023-09-02T19:17:03.542750",
   "version": "2.4.0"
  }
 },
 "nbformat": 4,
 "nbformat_minor": 5
}
