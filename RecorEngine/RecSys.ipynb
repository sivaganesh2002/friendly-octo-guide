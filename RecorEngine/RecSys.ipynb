{
 "cells": [
  {
   "cell_type": "markdown",
   "id": "301473d7",
   "metadata": {
    "papermill": {
     "duration": 0.006136,
     "end_time": "2023-10-15T11:00:49.215900",
     "exception": false,
     "start_time": "2023-10-15T11:00:49.209764",
     "status": "completed"
    },
    "tags": []
   },
   "source": [
    "##  Type of recommender systems\n",
    "\n",
    "### Demographic filtering\n",
    "gerneralized recommendations to every user, based on movie popularity, and/or genre.\n",
    "recommends same movies for users with similar demographic features.\n",
    "#### Too simple - since, every user is different\n",
    "\n",
    "### Content based filtering\n",
    "#### If one like user like a item, he likes similar item\n",
    "system uses item metadata, (genre, director, description, actors...) to recommend.\n",
    "\n",
    "### Collaborative filtering\n",
    "matches users with similar interest, provide recommnedations based on matchings.\n",
    "no metadata required\n",
    "#### same interest, same recommendations\n",
    "\n"
   ]
  },
  {
   "cell_type": "code",
   "execution_count": 1,
   "id": "96a3d226",
   "metadata": {
    "execution": {
     "iopub.execute_input": "2023-10-15T11:00:49.229632Z",
     "iopub.status.busy": "2023-10-15T11:00:49.228637Z",
     "iopub.status.idle": "2023-10-15T11:00:51.340475Z",
     "shell.execute_reply": "2023-10-15T11:00:51.339538Z"
    },
    "papermill": {
     "duration": 2.121306,
     "end_time": "2023-10-15T11:00:51.342902",
     "exception": false,
     "start_time": "2023-10-15T11:00:49.221596",
     "status": "completed"
    },
    "tags": []
   },
   "outputs": [
    {
     "name": "stderr",
     "output_type": "stream",
     "text": [
      "/opt/conda/lib/python3.10/site-packages/scipy/__init__.py:146: UserWarning: A NumPy version >=1.16.5 and <1.23.0 is required for this version of SciPy (detected version 1.23.5\n",
      "  warnings.warn(f\"A NumPy version >={np_minversion} and <{np_maxversion}\"\n"
     ]
    }
   ],
   "source": [
    "import pandas as pd\n",
    "import numpy as np\n",
    "import matplotlib.pyplot as plt\n",
    "from sklearn.feature_extraction.text import TfidfVectorizer\n",
    "from sklearn.metrics.pairwise import linear_kernel \n",
    "\n",
    "df1 = pd.read_csv('../input/tmdb-movie-metadata/tmdb_5000_credits.csv')\n",
    "df2 = pd.read_csv(\"../input/tmdb-movie-metadata/tmdb_5000_movies.csv\")"
   ]
  },
  {
   "cell_type": "markdown",
   "id": "908d5693",
   "metadata": {
    "papermill": {
     "duration": 0.005635,
     "end_time": "2023-10-15T11:00:51.354590",
     "exception": false,
     "start_time": "2023-10-15T11:00:51.348955",
     "status": "completed"
    },
    "tags": []
   },
   "source": [
    "# features in DataFrame df1 & df2\n",
    "df1 (DataFrame 1)\n",
    "- movie_id - ID for each movie\n",
    "- cast \n",
    "- crew\n",
    "\n",
    "df2 (DataFrame 2)\n",
    "- budget \n",
    "- genre\n",
    "- homepage - Link to homepage of the movie\n",
    "- id - ID for each movie (same as movie_id in df1)\n",
    "- keywords - keywords, tages related to movie\n",
    "- original_language - Original language\n",
    "- Original_title - title of movie before translation/adaptation\n",
    "- overview - description of the movie\n",
    "- popularity - A numerical quantity for movie popularity \n",
    "- production_companies - The production house\n",
    "- production_countries - Country of origin\n",
    "- release_date\n",
    "- revenue - ww revenue\n",
    "- runtime - in minutes\n",
    "- status - \"Released\" or \"Rumored\"\n",
    "- tagline - Movie's tagline\n",
    "- Title - Title of the movie\n",
    "- vote_average - average rating recieved\n",
    "- vote_count\n",
    "\n",
    "Joining df1, df2 on id column using [pandas.DataFrame.merge()](https://pandas.pydata.org/pandas-docs/stable/reference/api/pandas.DataFrame.merge.html)\n"
   ]
  },
  {
   "cell_type": "code",
   "execution_count": 2,
   "id": "38471b3b",
   "metadata": {
    "execution": {
     "iopub.execute_input": "2023-10-15T11:00:51.367983Z",
     "iopub.status.busy": "2023-10-15T11:00:51.367594Z",
     "iopub.status.idle": "2023-10-15T11:00:51.399109Z",
     "shell.execute_reply": "2023-10-15T11:00:51.398140Z"
    },
    "papermill": {
     "duration": 0.041224,
     "end_time": "2023-10-15T11:00:51.401635",
     "exception": false,
     "start_time": "2023-10-15T11:00:51.360411",
     "status": "completed"
    },
    "tags": []
   },
   "outputs": [],
   "source": [
    "df1.columns = ['id', 'tittle', 'cast', 'crew']\n",
    "df2 = df2.merge(df1, on = 'id') "
   ]
  },
  {
   "cell_type": "markdown",
   "id": "84b31b48",
   "metadata": {
    "papermill": {
     "duration": 0.00562,
     "end_time": "2023-10-15T11:00:51.413451",
     "exception": false,
     "start_time": "2023-10-15T11:00:51.407831",
     "status": "completed"
    },
    "tags": []
   },
   "source": [
    "peak our dataframe df2"
   ]
  },
  {
   "cell_type": "code",
   "execution_count": 3,
   "id": "c9099cd1",
   "metadata": {
    "execution": {
     "iopub.execute_input": "2023-10-15T11:00:51.428044Z",
     "iopub.status.busy": "2023-10-15T11:00:51.427667Z",
     "iopub.status.idle": "2023-10-15T11:00:51.457525Z",
     "shell.execute_reply": "2023-10-15T11:00:51.456449Z"
    },
    "papermill": {
     "duration": 0.040662,
     "end_time": "2023-10-15T11:00:51.459884",
     "exception": false,
     "start_time": "2023-10-15T11:00:51.419222",
     "status": "completed"
    },
    "tags": []
   },
   "outputs": [
    {
     "data": {
      "text/html": [
       "<div>\n",
       "<style scoped>\n",
       "    .dataframe tbody tr th:only-of-type {\n",
       "        vertical-align: middle;\n",
       "    }\n",
       "\n",
       "    .dataframe tbody tr th {\n",
       "        vertical-align: top;\n",
       "    }\n",
       "\n",
       "    .dataframe thead th {\n",
       "        text-align: right;\n",
       "    }\n",
       "</style>\n",
       "<table border=\"1\" class=\"dataframe\">\n",
       "  <thead>\n",
       "    <tr style=\"text-align: right;\">\n",
       "      <th></th>\n",
       "      <th>budget</th>\n",
       "      <th>genres</th>\n",
       "      <th>homepage</th>\n",
       "      <th>id</th>\n",
       "      <th>keywords</th>\n",
       "      <th>original_language</th>\n",
       "      <th>original_title</th>\n",
       "      <th>overview</th>\n",
       "      <th>popularity</th>\n",
       "      <th>production_companies</th>\n",
       "      <th>...</th>\n",
       "      <th>runtime</th>\n",
       "      <th>spoken_languages</th>\n",
       "      <th>status</th>\n",
       "      <th>tagline</th>\n",
       "      <th>title</th>\n",
       "      <th>vote_average</th>\n",
       "      <th>vote_count</th>\n",
       "      <th>tittle</th>\n",
       "      <th>cast</th>\n",
       "      <th>crew</th>\n",
       "    </tr>\n",
       "  </thead>\n",
       "  <tbody>\n",
       "    <tr>\n",
       "      <th>0</th>\n",
       "      <td>237000000</td>\n",
       "      <td>[{\"id\": 28, \"name\": \"Action\"}, {\"id\": 12, \"nam...</td>\n",
       "      <td>http://www.avatarmovie.com/</td>\n",
       "      <td>19995</td>\n",
       "      <td>[{\"id\": 1463, \"name\": \"culture clash\"}, {\"id\":...</td>\n",
       "      <td>en</td>\n",
       "      <td>Avatar</td>\n",
       "      <td>In the 22nd century, a paraplegic Marine is di...</td>\n",
       "      <td>150.437577</td>\n",
       "      <td>[{\"name\": \"Ingenious Film Partners\", \"id\": 289...</td>\n",
       "      <td>...</td>\n",
       "      <td>162.0</td>\n",
       "      <td>[{\"iso_639_1\": \"en\", \"name\": \"English\"}, {\"iso...</td>\n",
       "      <td>Released</td>\n",
       "      <td>Enter the World of Pandora.</td>\n",
       "      <td>Avatar</td>\n",
       "      <td>7.2</td>\n",
       "      <td>11800</td>\n",
       "      <td>Avatar</td>\n",
       "      <td>[{\"cast_id\": 242, \"character\": \"Jake Sully\", \"...</td>\n",
       "      <td>[{\"credit_id\": \"52fe48009251416c750aca23\", \"de...</td>\n",
       "    </tr>\n",
       "    <tr>\n",
       "      <th>1</th>\n",
       "      <td>300000000</td>\n",
       "      <td>[{\"id\": 12, \"name\": \"Adventure\"}, {\"id\": 14, \"...</td>\n",
       "      <td>http://disney.go.com/disneypictures/pirates/</td>\n",
       "      <td>285</td>\n",
       "      <td>[{\"id\": 270, \"name\": \"ocean\"}, {\"id\": 726, \"na...</td>\n",
       "      <td>en</td>\n",
       "      <td>Pirates of the Caribbean: At World's End</td>\n",
       "      <td>Captain Barbossa, long believed to be dead, ha...</td>\n",
       "      <td>139.082615</td>\n",
       "      <td>[{\"name\": \"Walt Disney Pictures\", \"id\": 2}, {\"...</td>\n",
       "      <td>...</td>\n",
       "      <td>169.0</td>\n",
       "      <td>[{\"iso_639_1\": \"en\", \"name\": \"English\"}]</td>\n",
       "      <td>Released</td>\n",
       "      <td>At the end of the world, the adventure begins.</td>\n",
       "      <td>Pirates of the Caribbean: At World's End</td>\n",
       "      <td>6.9</td>\n",
       "      <td>4500</td>\n",
       "      <td>Pirates of the Caribbean: At World's End</td>\n",
       "      <td>[{\"cast_id\": 4, \"character\": \"Captain Jack Spa...</td>\n",
       "      <td>[{\"credit_id\": \"52fe4232c3a36847f800b579\", \"de...</td>\n",
       "    </tr>\n",
       "    <tr>\n",
       "      <th>2</th>\n",
       "      <td>245000000</td>\n",
       "      <td>[{\"id\": 28, \"name\": \"Action\"}, {\"id\": 12, \"nam...</td>\n",
       "      <td>http://www.sonypictures.com/movies/spectre/</td>\n",
       "      <td>206647</td>\n",
       "      <td>[{\"id\": 470, \"name\": \"spy\"}, {\"id\": 818, \"name...</td>\n",
       "      <td>en</td>\n",
       "      <td>Spectre</td>\n",
       "      <td>A cryptic message from Bond’s past sends him o...</td>\n",
       "      <td>107.376788</td>\n",
       "      <td>[{\"name\": \"Columbia Pictures\", \"id\": 5}, {\"nam...</td>\n",
       "      <td>...</td>\n",
       "      <td>148.0</td>\n",
       "      <td>[{\"iso_639_1\": \"fr\", \"name\": \"Fran\\u00e7ais\"},...</td>\n",
       "      <td>Released</td>\n",
       "      <td>A Plan No One Escapes</td>\n",
       "      <td>Spectre</td>\n",
       "      <td>6.3</td>\n",
       "      <td>4466</td>\n",
       "      <td>Spectre</td>\n",
       "      <td>[{\"cast_id\": 1, \"character\": \"James Bond\", \"cr...</td>\n",
       "      <td>[{\"credit_id\": \"54805967c3a36829b5002c41\", \"de...</td>\n",
       "    </tr>\n",
       "    <tr>\n",
       "      <th>3</th>\n",
       "      <td>250000000</td>\n",
       "      <td>[{\"id\": 28, \"name\": \"Action\"}, {\"id\": 80, \"nam...</td>\n",
       "      <td>http://www.thedarkknightrises.com/</td>\n",
       "      <td>49026</td>\n",
       "      <td>[{\"id\": 849, \"name\": \"dc comics\"}, {\"id\": 853,...</td>\n",
       "      <td>en</td>\n",
       "      <td>The Dark Knight Rises</td>\n",
       "      <td>Following the death of District Attorney Harve...</td>\n",
       "      <td>112.312950</td>\n",
       "      <td>[{\"name\": \"Legendary Pictures\", \"id\": 923}, {\"...</td>\n",
       "      <td>...</td>\n",
       "      <td>165.0</td>\n",
       "      <td>[{\"iso_639_1\": \"en\", \"name\": \"English\"}]</td>\n",
       "      <td>Released</td>\n",
       "      <td>The Legend Ends</td>\n",
       "      <td>The Dark Knight Rises</td>\n",
       "      <td>7.6</td>\n",
       "      <td>9106</td>\n",
       "      <td>The Dark Knight Rises</td>\n",
       "      <td>[{\"cast_id\": 2, \"character\": \"Bruce Wayne / Ba...</td>\n",
       "      <td>[{\"credit_id\": \"52fe4781c3a36847f81398c3\", \"de...</td>\n",
       "    </tr>\n",
       "    <tr>\n",
       "      <th>4</th>\n",
       "      <td>260000000</td>\n",
       "      <td>[{\"id\": 28, \"name\": \"Action\"}, {\"id\": 12, \"nam...</td>\n",
       "      <td>http://movies.disney.com/john-carter</td>\n",
       "      <td>49529</td>\n",
       "      <td>[{\"id\": 818, \"name\": \"based on novel\"}, {\"id\":...</td>\n",
       "      <td>en</td>\n",
       "      <td>John Carter</td>\n",
       "      <td>John Carter is a war-weary, former military ca...</td>\n",
       "      <td>43.926995</td>\n",
       "      <td>[{\"name\": \"Walt Disney Pictures\", \"id\": 2}]</td>\n",
       "      <td>...</td>\n",
       "      <td>132.0</td>\n",
       "      <td>[{\"iso_639_1\": \"en\", \"name\": \"English\"}]</td>\n",
       "      <td>Released</td>\n",
       "      <td>Lost in our world, found in another.</td>\n",
       "      <td>John Carter</td>\n",
       "      <td>6.1</td>\n",
       "      <td>2124</td>\n",
       "      <td>John Carter</td>\n",
       "      <td>[{\"cast_id\": 5, \"character\": \"John Carter\", \"c...</td>\n",
       "      <td>[{\"credit_id\": \"52fe479ac3a36847f813eaa3\", \"de...</td>\n",
       "    </tr>\n",
       "  </tbody>\n",
       "</table>\n",
       "<p>5 rows × 23 columns</p>\n",
       "</div>"
      ],
      "text/plain": [
       "      budget                                             genres  \\\n",
       "0  237000000  [{\"id\": 28, \"name\": \"Action\"}, {\"id\": 12, \"nam...   \n",
       "1  300000000  [{\"id\": 12, \"name\": \"Adventure\"}, {\"id\": 14, \"...   \n",
       "2  245000000  [{\"id\": 28, \"name\": \"Action\"}, {\"id\": 12, \"nam...   \n",
       "3  250000000  [{\"id\": 28, \"name\": \"Action\"}, {\"id\": 80, \"nam...   \n",
       "4  260000000  [{\"id\": 28, \"name\": \"Action\"}, {\"id\": 12, \"nam...   \n",
       "\n",
       "                                       homepage      id  \\\n",
       "0                   http://www.avatarmovie.com/   19995   \n",
       "1  http://disney.go.com/disneypictures/pirates/     285   \n",
       "2   http://www.sonypictures.com/movies/spectre/  206647   \n",
       "3            http://www.thedarkknightrises.com/   49026   \n",
       "4          http://movies.disney.com/john-carter   49529   \n",
       "\n",
       "                                            keywords original_language  \\\n",
       "0  [{\"id\": 1463, \"name\": \"culture clash\"}, {\"id\":...                en   \n",
       "1  [{\"id\": 270, \"name\": \"ocean\"}, {\"id\": 726, \"na...                en   \n",
       "2  [{\"id\": 470, \"name\": \"spy\"}, {\"id\": 818, \"name...                en   \n",
       "3  [{\"id\": 849, \"name\": \"dc comics\"}, {\"id\": 853,...                en   \n",
       "4  [{\"id\": 818, \"name\": \"based on novel\"}, {\"id\":...                en   \n",
       "\n",
       "                             original_title  \\\n",
       "0                                    Avatar   \n",
       "1  Pirates of the Caribbean: At World's End   \n",
       "2                                   Spectre   \n",
       "3                     The Dark Knight Rises   \n",
       "4                               John Carter   \n",
       "\n",
       "                                            overview  popularity  \\\n",
       "0  In the 22nd century, a paraplegic Marine is di...  150.437577   \n",
       "1  Captain Barbossa, long believed to be dead, ha...  139.082615   \n",
       "2  A cryptic message from Bond’s past sends him o...  107.376788   \n",
       "3  Following the death of District Attorney Harve...  112.312950   \n",
       "4  John Carter is a war-weary, former military ca...   43.926995   \n",
       "\n",
       "                                production_companies  ... runtime  \\\n",
       "0  [{\"name\": \"Ingenious Film Partners\", \"id\": 289...  ...   162.0   \n",
       "1  [{\"name\": \"Walt Disney Pictures\", \"id\": 2}, {\"...  ...   169.0   \n",
       "2  [{\"name\": \"Columbia Pictures\", \"id\": 5}, {\"nam...  ...   148.0   \n",
       "3  [{\"name\": \"Legendary Pictures\", \"id\": 923}, {\"...  ...   165.0   \n",
       "4        [{\"name\": \"Walt Disney Pictures\", \"id\": 2}]  ...   132.0   \n",
       "\n",
       "                                    spoken_languages    status  \\\n",
       "0  [{\"iso_639_1\": \"en\", \"name\": \"English\"}, {\"iso...  Released   \n",
       "1           [{\"iso_639_1\": \"en\", \"name\": \"English\"}]  Released   \n",
       "2  [{\"iso_639_1\": \"fr\", \"name\": \"Fran\\u00e7ais\"},...  Released   \n",
       "3           [{\"iso_639_1\": \"en\", \"name\": \"English\"}]  Released   \n",
       "4           [{\"iso_639_1\": \"en\", \"name\": \"English\"}]  Released   \n",
       "\n",
       "                                          tagline  \\\n",
       "0                     Enter the World of Pandora.   \n",
       "1  At the end of the world, the adventure begins.   \n",
       "2                           A Plan No One Escapes   \n",
       "3                                 The Legend Ends   \n",
       "4            Lost in our world, found in another.   \n",
       "\n",
       "                                      title vote_average vote_count  \\\n",
       "0                                    Avatar          7.2      11800   \n",
       "1  Pirates of the Caribbean: At World's End          6.9       4500   \n",
       "2                                   Spectre          6.3       4466   \n",
       "3                     The Dark Knight Rises          7.6       9106   \n",
       "4                               John Carter          6.1       2124   \n",
       "\n",
       "                                     tittle  \\\n",
       "0                                    Avatar   \n",
       "1  Pirates of the Caribbean: At World's End   \n",
       "2                                   Spectre   \n",
       "3                     The Dark Knight Rises   \n",
       "4                               John Carter   \n",
       "\n",
       "                                                cast  \\\n",
       "0  [{\"cast_id\": 242, \"character\": \"Jake Sully\", \"...   \n",
       "1  [{\"cast_id\": 4, \"character\": \"Captain Jack Spa...   \n",
       "2  [{\"cast_id\": 1, \"character\": \"James Bond\", \"cr...   \n",
       "3  [{\"cast_id\": 2, \"character\": \"Bruce Wayne / Ba...   \n",
       "4  [{\"cast_id\": 5, \"character\": \"John Carter\", \"c...   \n",
       "\n",
       "                                                crew  \n",
       "0  [{\"credit_id\": \"52fe48009251416c750aca23\", \"de...  \n",
       "1  [{\"credit_id\": \"52fe4232c3a36847f800b579\", \"de...  \n",
       "2  [{\"credit_id\": \"54805967c3a36829b5002c41\", \"de...  \n",
       "3  [{\"credit_id\": \"52fe4781c3a36847f81398c3\", \"de...  \n",
       "4  [{\"credit_id\": \"52fe479ac3a36847f813eaa3\", \"de...  \n",
       "\n",
       "[5 rows x 23 columns]"
      ]
     },
     "execution_count": 3,
     "metadata": {},
     "output_type": "execute_result"
    }
   ],
   "source": [
    "df2.head()"
   ]
  },
  {
   "cell_type": "markdown",
   "id": "d5bc5812",
   "metadata": {
    "papermill": {
     "duration": 0.006269,
     "end_time": "2023-10-15T11:00:51.472832",
     "exception": false,
     "start_time": "2023-10-15T11:00:51.466563",
     "status": "completed"
    },
    "tags": []
   },
   "source": [
    "## Demographic filtering\n",
    "\n",
    "- metric to rate movie\n",
    "- rate for every movie\n",
    "- sort rates & rec best rated movie to users\n",
    "\n",
    "#### Average ratings\n",
    "\n",
    "- wr := weighted rating\n",
    "- v (vote_count) := no. of votes\n",
    "- m := min vote required to be listed in chart\n",
    "- R (vote_average) := avg rating\n",
    "- C := mean vote across whole movie dataset\n",
    "\n",
    "$$wr = \\left(\\frac{v}{v+m}{.}R\\right)+\\left(\\frac{m}{v+m}{.}C\\right)$$\n",
    "\n"
   ]
  },
  {
   "cell_type": "code",
   "execution_count": 4,
   "id": "16638e27",
   "metadata": {
    "execution": {
     "iopub.execute_input": "2023-10-15T11:00:51.487518Z",
     "iopub.status.busy": "2023-10-15T11:00:51.487138Z",
     "iopub.status.idle": "2023-10-15T11:00:51.492106Z",
     "shell.execute_reply": "2023-10-15T11:00:51.491085Z"
    },
    "papermill": {
     "duration": 0.01478,
     "end_time": "2023-10-15T11:00:51.494008",
     "exception": false,
     "start_time": "2023-10-15T11:00:51.479228",
     "status": "completed"
    },
    "tags": []
   },
   "outputs": [],
   "source": [
    "# C = mean of df2[\"vote_average\"]\n",
    "C = df2[\"vote_average\"].mean()"
   ]
  },
  {
   "cell_type": "markdown",
   "id": "e203e581",
   "metadata": {
    "papermill": {
     "duration": 0.006023,
     "end_time": "2023-10-15T11:00:51.506511",
     "exception": false,
     "start_time": "2023-10-15T11:00:51.500488",
     "status": "completed"
    },
    "tags": []
   },
   "source": [
    "#### m (min vote req) \n",
    "movie m_i(v) > 90% v of other movies\n"
   ]
  },
  {
   "cell_type": "code",
   "execution_count": 5,
   "id": "1caa9e7e",
   "metadata": {
    "execution": {
     "iopub.execute_input": "2023-10-15T11:00:51.521055Z",
     "iopub.status.busy": "2023-10-15T11:00:51.520671Z",
     "iopub.status.idle": "2023-10-15T11:00:51.530252Z",
     "shell.execute_reply": "2023-10-15T11:00:51.529210Z"
    },
    "papermill": {
     "duration": 0.019186,
     "end_time": "2023-10-15T11:00:51.532143",
     "exception": false,
     "start_time": "2023-10-15T11:00:51.512957",
     "status": "completed"
    },
    "tags": []
   },
   "outputs": [
    {
     "data": {
      "text/plain": [
       "1838.4000000000015"
      ]
     },
     "execution_count": 5,
     "metadata": {},
     "output_type": "execute_result"
    }
   ],
   "source": [
    "# m = mean rating 90th percentile as cutoff\n",
    "m = df2[\"vote_count\"].quantile(.9)\n",
    "m"
   ]
  },
  {
   "cell_type": "markdown",
   "id": "63b2cf48",
   "metadata": {
    "papermill": {
     "duration": 0.006498,
     "end_time": "2023-10-15T11:00:51.545116",
     "exception": false,
     "start_time": "2023-10-15T11:00:51.538618",
     "status": "completed"
    },
    "tags": []
   },
   "source": [
    "filtering out movie based on qualifying"
   ]
  },
  {
   "cell_type": "code",
   "execution_count": 6,
   "id": "3eb4dd3a",
   "metadata": {
    "execution": {
     "iopub.execute_input": "2023-10-15T11:00:51.559437Z",
     "iopub.status.busy": "2023-10-15T11:00:51.559081Z",
     "iopub.status.idle": "2023-10-15T11:00:51.570171Z",
     "shell.execute_reply": "2023-10-15T11:00:51.569366Z"
    },
    "papermill": {
     "duration": 0.020723,
     "end_time": "2023-10-15T11:00:51.572141",
     "exception": false,
     "start_time": "2023-10-15T11:00:51.551418",
     "status": "completed"
    },
    "tags": []
   },
   "outputs": [
    {
     "data": {
      "text/plain": [
       "(481, 23)"
      ]
     },
     "execution_count": 6,
     "metadata": {},
     "output_type": "execute_result"
    }
   ],
   "source": [
    "q_ = df2.copy().loc[df2[\"vote_count\"] >= m]\n",
    "q_.shape"
   ]
  },
  {
   "cell_type": "markdown",
   "id": "9582104b",
   "metadata": {
    "papermill": {
     "duration": 0.006191,
     "end_time": "2023-10-15T11:00:51.584923",
     "exception": false,
     "start_time": "2023-10-15T11:00:51.578732",
     "status": "completed"
    },
    "tags": []
   },
   "source": [
    "#### metric for movie\n",
    "\n",
    "$$Weighted Rating (WR)=(\\frac{v}{v+m}\\cdot R)+(\\frac{m}{v+m}\\cdot C)$$"
   ]
  },
  {
   "cell_type": "code",
   "execution_count": 7,
   "id": "8fa465c6",
   "metadata": {
    "execution": {
     "iopub.execute_input": "2023-10-15T11:00:51.599640Z",
     "iopub.status.busy": "2023-10-15T11:00:51.598922Z",
     "iopub.status.idle": "2023-10-15T11:00:51.604127Z",
     "shell.execute_reply": "2023-10-15T11:00:51.603366Z"
    },
    "papermill": {
     "duration": 0.01465,
     "end_time": "2023-10-15T11:00:51.606046",
     "exception": false,
     "start_time": "2023-10-15T11:00:51.591396",
     "status": "completed"
    },
    "tags": []
   },
   "outputs": [],
   "source": [
    "# weighted rating \n",
    "def weighted_rating (x, m=m, C=C):\n",
    "    \"\"\"\n",
    "    args:\n",
    "        X : \n",
    "        m : mean rating of movies of 90% percentile\n",
    "        C : mean of vote_average of every movie\n",
    "    return:\n",
    "        WR \n",
    "    \"\"\"\n",
    "    v = x[\"vote_count\"]\n",
    "    R = x[\"vote_average\"]\n",
    "    #calculate IMDB formula\n",
    "    return (v/(v+m)*R + m/(v+m)*C)"
   ]
  },
  {
   "cell_type": "code",
   "execution_count": 8,
   "id": "f87ceb00",
   "metadata": {
    "execution": {
     "iopub.execute_input": "2023-10-15T11:00:51.621348Z",
     "iopub.status.busy": "2023-10-15T11:00:51.620607Z",
     "iopub.status.idle": "2023-10-15T11:00:51.644184Z",
     "shell.execute_reply": "2023-10-15T11:00:51.643142Z"
    },
    "papermill": {
     "duration": 0.033429,
     "end_time": "2023-10-15T11:00:51.646270",
     "exception": false,
     "start_time": "2023-10-15T11:00:51.612841",
     "status": "completed"
    },
    "tags": []
   },
   "outputs": [
    {
     "data": {
      "text/html": [
       "<div>\n",
       "<style scoped>\n",
       "    .dataframe tbody tr th:only-of-type {\n",
       "        vertical-align: middle;\n",
       "    }\n",
       "\n",
       "    .dataframe tbody tr th {\n",
       "        vertical-align: top;\n",
       "    }\n",
       "\n",
       "    .dataframe thead th {\n",
       "        text-align: right;\n",
       "    }\n",
       "</style>\n",
       "<table border=\"1\" class=\"dataframe\">\n",
       "  <thead>\n",
       "    <tr style=\"text-align: right;\">\n",
       "      <th></th>\n",
       "      <th>title</th>\n",
       "      <th>vote_count</th>\n",
       "      <th>vote_average</th>\n",
       "      <th>score</th>\n",
       "    </tr>\n",
       "  </thead>\n",
       "  <tbody>\n",
       "    <tr>\n",
       "      <th>1881</th>\n",
       "      <td>The Shawshank Redemption</td>\n",
       "      <td>8205</td>\n",
       "      <td>8.5</td>\n",
       "      <td>8.059258</td>\n",
       "    </tr>\n",
       "    <tr>\n",
       "      <th>662</th>\n",
       "      <td>Fight Club</td>\n",
       "      <td>9413</td>\n",
       "      <td>8.3</td>\n",
       "      <td>7.939256</td>\n",
       "    </tr>\n",
       "    <tr>\n",
       "      <th>65</th>\n",
       "      <td>The Dark Knight</td>\n",
       "      <td>12002</td>\n",
       "      <td>8.2</td>\n",
       "      <td>7.920020</td>\n",
       "    </tr>\n",
       "    <tr>\n",
       "      <th>3232</th>\n",
       "      <td>Pulp Fiction</td>\n",
       "      <td>8428</td>\n",
       "      <td>8.3</td>\n",
       "      <td>7.904645</td>\n",
       "    </tr>\n",
       "    <tr>\n",
       "      <th>96</th>\n",
       "      <td>Inception</td>\n",
       "      <td>13752</td>\n",
       "      <td>8.1</td>\n",
       "      <td>7.863239</td>\n",
       "    </tr>\n",
       "    <tr>\n",
       "      <th>3337</th>\n",
       "      <td>The Godfather</td>\n",
       "      <td>5893</td>\n",
       "      <td>8.4</td>\n",
       "      <td>7.851236</td>\n",
       "    </tr>\n",
       "    <tr>\n",
       "      <th>95</th>\n",
       "      <td>Interstellar</td>\n",
       "      <td>10867</td>\n",
       "      <td>8.1</td>\n",
       "      <td>7.809479</td>\n",
       "    </tr>\n",
       "    <tr>\n",
       "      <th>809</th>\n",
       "      <td>Forrest Gump</td>\n",
       "      <td>7927</td>\n",
       "      <td>8.2</td>\n",
       "      <td>7.803188</td>\n",
       "    </tr>\n",
       "    <tr>\n",
       "      <th>329</th>\n",
       "      <td>The Lord of the Rings: The Return of the King</td>\n",
       "      <td>8064</td>\n",
       "      <td>8.1</td>\n",
       "      <td>7.727243</td>\n",
       "    </tr>\n",
       "    <tr>\n",
       "      <th>1990</th>\n",
       "      <td>The Empire Strikes Back</td>\n",
       "      <td>5879</td>\n",
       "      <td>8.2</td>\n",
       "      <td>7.697884</td>\n",
       "    </tr>\n",
       "    <tr>\n",
       "      <th>262</th>\n",
       "      <td>The Lord of the Rings: The Fellowship of the Ring</td>\n",
       "      <td>8705</td>\n",
       "      <td>8.0</td>\n",
       "      <td>7.667341</td>\n",
       "    </tr>\n",
       "    <tr>\n",
       "      <th>2912</th>\n",
       "      <td>Star Wars</td>\n",
       "      <td>6624</td>\n",
       "      <td>8.1</td>\n",
       "      <td>7.663813</td>\n",
       "    </tr>\n",
       "    <tr>\n",
       "      <th>1818</th>\n",
       "      <td>Schindler's List</td>\n",
       "      <td>4329</td>\n",
       "      <td>8.3</td>\n",
       "      <td>7.641883</td>\n",
       "    </tr>\n",
       "    <tr>\n",
       "      <th>3865</th>\n",
       "      <td>Whiplash</td>\n",
       "      <td>4254</td>\n",
       "      <td>8.3</td>\n",
       "      <td>7.633781</td>\n",
       "    </tr>\n",
       "    <tr>\n",
       "      <th>330</th>\n",
       "      <td>The Lord of the Rings: The Two Towers</td>\n",
       "      <td>7487</td>\n",
       "      <td>8.0</td>\n",
       "      <td>7.623893</td>\n",
       "    </tr>\n",
       "    <tr>\n",
       "      <th>1553</th>\n",
       "      <td>Se7en</td>\n",
       "      <td>5765</td>\n",
       "      <td>8.1</td>\n",
       "      <td>7.614534</td>\n",
       "    </tr>\n",
       "    <tr>\n",
       "      <th>94</th>\n",
       "      <td>Guardians of the Galaxy</td>\n",
       "      <td>9742</td>\n",
       "      <td>7.9</td>\n",
       "      <td>7.613005</td>\n",
       "    </tr>\n",
       "    <tr>\n",
       "      <th>634</th>\n",
       "      <td>The Matrix</td>\n",
       "      <td>8907</td>\n",
       "      <td>7.9</td>\n",
       "      <td>7.590704</td>\n",
       "    </tr>\n",
       "  </tbody>\n",
       "</table>\n",
       "</div>"
      ],
      "text/plain": [
       "                                                  title  vote_count  \\\n",
       "1881                           The Shawshank Redemption        8205   \n",
       "662                                          Fight Club        9413   \n",
       "65                                      The Dark Knight       12002   \n",
       "3232                                       Pulp Fiction        8428   \n",
       "96                                            Inception       13752   \n",
       "3337                                      The Godfather        5893   \n",
       "95                                         Interstellar       10867   \n",
       "809                                        Forrest Gump        7927   \n",
       "329       The Lord of the Rings: The Return of the King        8064   \n",
       "1990                            The Empire Strikes Back        5879   \n",
       "262   The Lord of the Rings: The Fellowship of the Ring        8705   \n",
       "2912                                          Star Wars        6624   \n",
       "1818                                   Schindler's List        4329   \n",
       "3865                                           Whiplash        4254   \n",
       "330               The Lord of the Rings: The Two Towers        7487   \n",
       "1553                                              Se7en        5765   \n",
       "94                              Guardians of the Galaxy        9742   \n",
       "634                                          The Matrix        8907   \n",
       "\n",
       "      vote_average     score  \n",
       "1881           8.5  8.059258  \n",
       "662            8.3  7.939256  \n",
       "65             8.2  7.920020  \n",
       "3232           8.3  7.904645  \n",
       "96             8.1  7.863239  \n",
       "3337           8.4  7.851236  \n",
       "95             8.1  7.809479  \n",
       "809            8.2  7.803188  \n",
       "329            8.1  7.727243  \n",
       "1990           8.2  7.697884  \n",
       "262            8.0  7.667341  \n",
       "2912           8.1  7.663813  \n",
       "1818           8.3  7.641883  \n",
       "3865           8.3  7.633781  \n",
       "330            8.0  7.623893  \n",
       "1553           8.1  7.614534  \n",
       "94             7.9  7.613005  \n",
       "634            7.9  7.590704  "
      ]
     },
     "execution_count": 8,
     "metadata": {},
     "output_type": "execute_result"
    }
   ],
   "source": [
    "# define new feature \"score\" & \n",
    "# calculate its value with weighted_rating\n",
    "q_[\"score\"] = q_.apply(weighted_rating, axis=1)\n",
    "\n",
    "# sort movie based on score\n",
    "q_ = q_.sort_values(\"score\", ascending=False)\n",
    "q_[[\"title\", \"vote_count\", \"vote_average\", \"score\"]].head(18)"
   ]
  },
  {
   "cell_type": "markdown",
   "id": "b53d386d",
   "metadata": {
    "papermill": {
     "duration": 0.006398,
     "end_time": "2023-10-15T11:00:51.659828",
     "exception": false,
     "start_time": "2023-10-15T11:00:51.653430",
     "status": "completed"
    },
    "tags": []
   },
   "source": [
    "# Content based filtering"
   ]
  },
  {
   "cell_type": "markdown",
   "id": "dbf5134e",
   "metadata": {
    "papermill": {
     "duration": 0.006489,
     "end_time": "2023-10-15T11:00:51.672988",
     "exception": false,
     "start_time": "2023-10-15T11:00:51.666499",
     "status": "completed"
    },
    "tags": []
   },
   "source": [
    "Similarity from content of the film ( overview, cast n' crew, keywrod, tagline, genre etc ) is used to find similarity with other movies. And most similar movies would be recommended.\n",
    "\n"
   ]
  },
  {
   "cell_type": "markdown",
   "id": "403019f1",
   "metadata": {
    "papermill": {
     "duration": 0.0065,
     "end_time": "2023-10-15T11:00:51.686211",
     "exception": false,
     "start_time": "2023-10-15T11:00:51.679711",
     "status": "completed"
    },
    "tags": []
   },
   "source": [
    "### Plot based recommender\n",
    "\n",
    "Computing parwise SS(similarity score) of every movie pairwise based on plot overview(discriptions) & recommend movie based on SS."
   ]
  },
  {
   "cell_type": "code",
   "execution_count": 9,
   "id": "1113837b",
   "metadata": {
    "execution": {
     "iopub.execute_input": "2023-10-15T11:00:51.701609Z",
     "iopub.status.busy": "2023-10-15T11:00:51.700695Z",
     "iopub.status.idle": "2023-10-15T11:00:51.707597Z",
     "shell.execute_reply": "2023-10-15T11:00:51.706837Z"
    },
    "papermill": {
     "duration": 0.016448,
     "end_time": "2023-10-15T11:00:51.709385",
     "exception": false,
     "start_time": "2023-10-15T11:00:51.692937",
     "status": "completed"
    },
    "tags": []
   },
   "outputs": [
    {
     "data": {
      "text/plain": [
       "0    In the 22nd century, a paraplegic Marine is di...\n",
       "1    Captain Barbossa, long believed to be dead, ha...\n",
       "2    A cryptic message from Bond’s past sends him o...\n",
       "3    Following the death of District Attorney Harve...\n",
       "4    John Carter is a war-weary, former military ca...\n",
       "Name: overview, dtype: object"
      ]
     },
     "execution_count": 9,
     "metadata": {},
     "output_type": "execute_result"
    }
   ],
   "source": [
    "df2[\"overview\"].head()"
   ]
  },
  {
   "cell_type": "markdown",
   "id": "11df943f",
   "metadata": {
    "papermill": {
     "duration": 0.00659,
     "end_time": "2023-10-15T11:00:51.722771",
     "exception": false,
     "start_time": "2023-10-15T11:00:51.716181",
     "status": "completed"
    },
    "tags": []
   },
   "source": [
    "Computing TF-IDF vector for overview of every movie\n",
    "$$TF=\\frac{\\textrm{instance of a term}}{\\textrm{total instance}}$$\n",
    "\n",
    "$$IDF=\\log\\Big( \\frac{\\textrm{no. of documents}}{\\textrm{document with the term}} \\Big)$$\n",
    "\n",
    "$$TF-IDF=TF*IDF$$\n",
    "\n",
    "Scikit-learn has build-in TF-IDF vectorizer in module sklearn.feature_extraction.text -> TfidfVectorizer"
   ]
  },
  {
   "cell_type": "code",
   "execution_count": 10,
   "id": "4f5773cd",
   "metadata": {
    "execution": {
     "iopub.execute_input": "2023-10-15T11:00:51.738520Z",
     "iopub.status.busy": "2023-10-15T11:00:51.737463Z",
     "iopub.status.idle": "2023-10-15T11:00:52.007999Z",
     "shell.execute_reply": "2023-10-15T11:00:52.006898Z"
    },
    "papermill": {
     "duration": 0.280538,
     "end_time": "2023-10-15T11:00:52.010128",
     "exception": false,
     "start_time": "2023-10-15T11:00:51.729590",
     "status": "completed"
    },
    "tags": []
   },
   "outputs": [
    {
     "data": {
      "text/plain": [
       "(4803, 20978)"
      ]
     },
     "execution_count": 10,
     "metadata": {},
     "output_type": "execute_result"
    }
   ],
   "source": [
    "# TfidfVectorizer is imported sklearn.feature_extraction.text \n",
    "\n",
    "# replace NaN for an empty string in overview column\n",
    "df2[\"overview\"] = df2[\"overview\"].fillna(\"\")\n",
    "\n",
    "# define a TF-IDF vectorizer object. Remove all english stopwords\n",
    "tfidf = TfidfVectorizer(stop_words = \"english\")\n",
    "\n",
    "# construct tf-idf matrix by fittin & transforming data\n",
    "tfidf_matrix = tfidf.fit_transform(df2[\"overview\"])\n",
    "\n",
    "# shape of tfidf_matrix\n",
    "tfidf_matrix.shape "
   ]
  },
  {
   "cell_type": "markdown",
   "id": "c4d664a6",
   "metadata": {
    "papermill": {
     "duration": 0.006624,
     "end_time": "2023-10-15T11:00:52.023838",
     "exception": false,
     "start_time": "2023-10-15T11:00:52.017214",
     "status": "completed"
    },
    "tags": []
   },
   "source": [
    "### Cosine similarity\n",
    "$$similarity \\big( \\cos(\\theta) \\big)=\\frac{\\textbf{A.B}}{|A||B|}=\\dfrac{\\sum_{i=1}^N\\ A_i*B_i}{\\sqrt{\\sum_{i=1}^N\\ A_i^2}\\sqrt{\\sum_{i=1}^N\\ B_i^2}}$$\n",
    "\n",
    "here, A, B are TFidfVectorizer for 2 different movies"
   ]
  },
  {
   "cell_type": "code",
   "execution_count": 11,
   "id": "f779080d",
   "metadata": {
    "execution": {
     "iopub.execute_input": "2023-10-15T11:00:52.040115Z",
     "iopub.status.busy": "2023-10-15T11:00:52.039507Z",
     "iopub.status.idle": "2023-10-15T11:00:52.535959Z",
     "shell.execute_reply": "2023-10-15T11:00:52.534843Z"
    },
    "papermill": {
     "duration": 0.50769,
     "end_time": "2023-10-15T11:00:52.538498",
     "exception": false,
     "start_time": "2023-10-15T11:00:52.030808",
     "status": "completed"
    },
    "tags": []
   },
   "outputs": [],
   "source": [
    "# using sklearn.linear_kernel() instead of cosine_similarities() (faster)\n",
    "# compute Cosine similarity matrix\n",
    "cos_sim = linear_kernel(tfidf_matrix, tfidf_matrix)"
   ]
  },
  {
   "cell_type": "markdown",
   "id": "15a9e25d",
   "metadata": {
    "papermill": {
     "duration": 0.006756,
     "end_time": "2023-10-15T11:00:52.552305",
     "exception": false,
     "start_time": "2023-10-15T11:00:52.545549",
     "status": "completed"
    },
    "tags": []
   },
   "source": [
    " reverse map of movie titles and DataFrame indices. In other words, we need a mechanism to identify the index of a movie in our metadata DataFrame, given its title.\n",
    " \n"
   ]
  },
  {
   "cell_type": "code",
   "execution_count": 12,
   "id": "eb4e1e28",
   "metadata": {
    "execution": {
     "iopub.execute_input": "2023-10-15T11:00:52.568168Z",
     "iopub.status.busy": "2023-10-15T11:00:52.567754Z",
     "iopub.status.idle": "2023-10-15T11:00:52.574475Z",
     "shell.execute_reply": "2023-10-15T11:00:52.573375Z"
    },
    "papermill": {
     "duration": 0.01716,
     "end_time": "2023-10-15T11:00:52.576479",
     "exception": false,
     "start_time": "2023-10-15T11:00:52.559319",
     "status": "completed"
    },
    "tags": []
   },
   "outputs": [],
   "source": [
    "# pd.Series() gives \n",
    "indices = pd.Series(data = df2.index, index = df2[\"title\"] ).drop_duplicates()"
   ]
  },
  {
   "cell_type": "markdown",
   "id": "c1b73d83",
   "metadata": {
    "papermill": {
     "duration": 0.006778,
     "end_time": "2023-10-15T11:00:52.590241",
     "exception": false,
     "start_time": "2023-10-15T11:00:52.583463",
     "status": "completed"
    },
    "tags": []
   },
   "source": [
    "+ Get the index of the movie from title\n",
    "+ Get the list of similarity (linear_kerel) of the given movie with all other movies\n",
    "+ Sort the list based on similarity\n",
    "+ return 1 to 11 movies (10 movies) in the list (0 being the movie itself)  "
   ]
  },
  {
   "cell_type": "code",
   "execution_count": 13,
   "id": "fa05ca8b",
   "metadata": {
    "execution": {
     "iopub.execute_input": "2023-10-15T11:00:52.606411Z",
     "iopub.status.busy": "2023-10-15T11:00:52.605341Z",
     "iopub.status.idle": "2023-10-15T11:00:52.611840Z",
     "shell.execute_reply": "2023-10-15T11:00:52.611111Z"
    },
    "papermill": {
     "duration": 0.016665,
     "end_time": "2023-10-15T11:00:52.613902",
     "exception": false,
     "start_time": "2023-10-15T11:00:52.597237",
     "status": "completed"
    },
    "tags": []
   },
   "outputs": [],
   "source": [
    "def recommendations(title, sim = cos_sim):\n",
    "    # get the index of the movie(title)\n",
    "    id = indices[title]\n",
    "    \n",
    "    # get the pairwise similarity_score from sim for all movies \n",
    "    sim_score = list(enumerate(sim[id]))\n",
    "    \n",
    "    # sort the sim_score based on sim score\n",
    "    sim_score = sorted(sim_score, key = lambda x : x[1], reverse = True )\n",
    "    \n",
    "    # get the top 10 movies score\n",
    "    sim_score = sim_score[1:11]\n",
    "    \n",
    "    # get the movie indices\n",
    "    movies_ID = [i[0] for i in sim_score]\n",
    "    \n",
    "    # return movie corr to movies_ID\n",
    "    return df2[\"title\"].iloc[movies_ID]"
   ]
  },
  {
   "cell_type": "code",
   "execution_count": 14,
   "id": "e0b85d59",
   "metadata": {
    "execution": {
     "iopub.execute_input": "2023-10-15T11:00:52.629934Z",
     "iopub.status.busy": "2023-10-15T11:00:52.629362Z",
     "iopub.status.idle": "2023-10-15T11:00:52.640745Z",
     "shell.execute_reply": "2023-10-15T11:00:52.639696Z"
    },
    "papermill": {
     "duration": 0.021819,
     "end_time": "2023-10-15T11:00:52.642787",
     "exception": false,
     "start_time": "2023-10-15T11:00:52.620968",
     "status": "completed"
    },
    "tags": []
   },
   "outputs": [
    {
     "data": {
      "text/plain": [
       "65                              The Dark Knight\n",
       "299                              Batman Forever\n",
       "428                              Batman Returns\n",
       "1359                                     Batman\n",
       "3854    Batman: The Dark Knight Returns, Part 2\n",
       "119                               Batman Begins\n",
       "2507                                  Slow Burn\n",
       "9            Batman v Superman: Dawn of Justice\n",
       "1181                                        JFK\n",
       "210                              Batman & Robin\n",
       "Name: title, dtype: object"
      ]
     },
     "execution_count": 14,
     "metadata": {},
     "output_type": "execute_result"
    }
   ],
   "source": [
    "# trial\n",
    "recommendations('The Dark Knight Rises')\n"
   ]
  },
  {
   "cell_type": "code",
   "execution_count": 15,
   "id": "79f2e6f4",
   "metadata": {
    "execution": {
     "iopub.execute_input": "2023-10-15T11:00:52.658800Z",
     "iopub.status.busy": "2023-10-15T11:00:52.658193Z",
     "iopub.status.idle": "2023-10-15T11:00:52.668733Z",
     "shell.execute_reply": "2023-10-15T11:00:52.667695Z"
    },
    "papermill": {
     "duration": 0.021071,
     "end_time": "2023-10-15T11:00:52.670856",
     "exception": false,
     "start_time": "2023-10-15T11:00:52.649785",
     "status": "completed"
    },
    "tags": []
   },
   "outputs": [
    {
     "data": {
      "text/plain": [
       "7               Avengers: Age of Ultron\n",
       "3144                            Plastic\n",
       "1715                            Timecop\n",
       "4124                 This Thing of Ours\n",
       "3311              Thank You for Smoking\n",
       "3033                      The Corruptor\n",
       "588     Wall Street: Money Never Sleeps\n",
       "2136         Team America: World Police\n",
       "1468                       The Fountain\n",
       "1286                        Snowpiercer\n",
       "Name: title, dtype: object"
      ]
     },
     "execution_count": 15,
     "metadata": {},
     "output_type": "execute_result"
    }
   ],
   "source": [
    "recommendations('The Avengers')\n"
   ]
  },
  {
   "cell_type": "markdown",
   "id": "d0773b55",
   "metadata": {
    "papermill": {
     "duration": 0.006858,
     "end_time": "2023-10-15T11:00:52.685002",
     "exception": false,
     "start_time": "2023-10-15T11:00:52.678144",
     "status": "completed"
    },
    "tags": []
   },
   "source": [
    "###  Credit, genre & keywords based recommender\n"
   ]
  },
  {
   "cell_type": "markdown",
   "id": "99f176b1",
   "metadata": {
    "papermill": {
     "duration": 0.006878,
     "end_time": "2023-10-15T11:00:52.699618",
     "exception": false,
     "start_time": "2023-10-15T11:00:52.692740",
     "status": "completed"
    },
    "tags": []
   },
   "source": [
    "we would use teh following metadata\n",
    "+ top 3 actor\n",
    "+ director\n",
    "+ related genre\n",
    "+ movie plot keyword\n"
   ]
  },
  {
   "cell_type": "code",
   "execution_count": 16,
   "id": "15afabaf",
   "metadata": {
    "execution": {
     "iopub.execute_input": "2023-10-15T11:00:52.715807Z",
     "iopub.status.busy": "2023-10-15T11:00:52.715189Z",
     "iopub.status.idle": "2023-10-15T11:00:52.737534Z",
     "shell.execute_reply": "2023-10-15T11:00:52.736472Z"
    },
    "papermill": {
     "duration": 0.032872,
     "end_time": "2023-10-15T11:00:52.739584",
     "exception": false,
     "start_time": "2023-10-15T11:00:52.706712",
     "status": "completed"
    },
    "tags": []
   },
   "outputs": [
    {
     "data": {
      "text/html": [
       "<div>\n",
       "<style scoped>\n",
       "    .dataframe tbody tr th:only-of-type {\n",
       "        vertical-align: middle;\n",
       "    }\n",
       "\n",
       "    .dataframe tbody tr th {\n",
       "        vertical-align: top;\n",
       "    }\n",
       "\n",
       "    .dataframe thead th {\n",
       "        text-align: right;\n",
       "    }\n",
       "</style>\n",
       "<table border=\"1\" class=\"dataframe\">\n",
       "  <thead>\n",
       "    <tr style=\"text-align: right;\">\n",
       "      <th></th>\n",
       "      <th>budget</th>\n",
       "      <th>genres</th>\n",
       "      <th>homepage</th>\n",
       "      <th>id</th>\n",
       "      <th>keywords</th>\n",
       "      <th>original_language</th>\n",
       "      <th>original_title</th>\n",
       "      <th>overview</th>\n",
       "      <th>popularity</th>\n",
       "      <th>production_companies</th>\n",
       "      <th>...</th>\n",
       "      <th>runtime</th>\n",
       "      <th>spoken_languages</th>\n",
       "      <th>status</th>\n",
       "      <th>tagline</th>\n",
       "      <th>title</th>\n",
       "      <th>vote_average</th>\n",
       "      <th>vote_count</th>\n",
       "      <th>tittle</th>\n",
       "      <th>cast</th>\n",
       "      <th>crew</th>\n",
       "    </tr>\n",
       "  </thead>\n",
       "  <tbody>\n",
       "    <tr>\n",
       "      <th>0</th>\n",
       "      <td>237000000</td>\n",
       "      <td>[{\"id\": 28, \"name\": \"Action\"}, {\"id\": 12, \"nam...</td>\n",
       "      <td>http://www.avatarmovie.com/</td>\n",
       "      <td>19995</td>\n",
       "      <td>[{\"id\": 1463, \"name\": \"culture clash\"}, {\"id\":...</td>\n",
       "      <td>en</td>\n",
       "      <td>Avatar</td>\n",
       "      <td>In the 22nd century, a paraplegic Marine is di...</td>\n",
       "      <td>150.437577</td>\n",
       "      <td>[{\"name\": \"Ingenious Film Partners\", \"id\": 289...</td>\n",
       "      <td>...</td>\n",
       "      <td>162.0</td>\n",
       "      <td>[{\"iso_639_1\": \"en\", \"name\": \"English\"}, {\"iso...</td>\n",
       "      <td>Released</td>\n",
       "      <td>Enter the World of Pandora.</td>\n",
       "      <td>Avatar</td>\n",
       "      <td>7.2</td>\n",
       "      <td>11800</td>\n",
       "      <td>Avatar</td>\n",
       "      <td>[{\"cast_id\": 242, \"character\": \"Jake Sully\", \"...</td>\n",
       "      <td>[{\"credit_id\": \"52fe48009251416c750aca23\", \"de...</td>\n",
       "    </tr>\n",
       "    <tr>\n",
       "      <th>1</th>\n",
       "      <td>300000000</td>\n",
       "      <td>[{\"id\": 12, \"name\": \"Adventure\"}, {\"id\": 14, \"...</td>\n",
       "      <td>http://disney.go.com/disneypictures/pirates/</td>\n",
       "      <td>285</td>\n",
       "      <td>[{\"id\": 270, \"name\": \"ocean\"}, {\"id\": 726, \"na...</td>\n",
       "      <td>en</td>\n",
       "      <td>Pirates of the Caribbean: At World's End</td>\n",
       "      <td>Captain Barbossa, long believed to be dead, ha...</td>\n",
       "      <td>139.082615</td>\n",
       "      <td>[{\"name\": \"Walt Disney Pictures\", \"id\": 2}, {\"...</td>\n",
       "      <td>...</td>\n",
       "      <td>169.0</td>\n",
       "      <td>[{\"iso_639_1\": \"en\", \"name\": \"English\"}]</td>\n",
       "      <td>Released</td>\n",
       "      <td>At the end of the world, the adventure begins.</td>\n",
       "      <td>Pirates of the Caribbean: At World's End</td>\n",
       "      <td>6.9</td>\n",
       "      <td>4500</td>\n",
       "      <td>Pirates of the Caribbean: At World's End</td>\n",
       "      <td>[{\"cast_id\": 4, \"character\": \"Captain Jack Spa...</td>\n",
       "      <td>[{\"credit_id\": \"52fe4232c3a36847f800b579\", \"de...</td>\n",
       "    </tr>\n",
       "    <tr>\n",
       "      <th>2</th>\n",
       "      <td>245000000</td>\n",
       "      <td>[{\"id\": 28, \"name\": \"Action\"}, {\"id\": 12, \"nam...</td>\n",
       "      <td>http://www.sonypictures.com/movies/spectre/</td>\n",
       "      <td>206647</td>\n",
       "      <td>[{\"id\": 470, \"name\": \"spy\"}, {\"id\": 818, \"name...</td>\n",
       "      <td>en</td>\n",
       "      <td>Spectre</td>\n",
       "      <td>A cryptic message from Bond’s past sends him o...</td>\n",
       "      <td>107.376788</td>\n",
       "      <td>[{\"name\": \"Columbia Pictures\", \"id\": 5}, {\"nam...</td>\n",
       "      <td>...</td>\n",
       "      <td>148.0</td>\n",
       "      <td>[{\"iso_639_1\": \"fr\", \"name\": \"Fran\\u00e7ais\"},...</td>\n",
       "      <td>Released</td>\n",
       "      <td>A Plan No One Escapes</td>\n",
       "      <td>Spectre</td>\n",
       "      <td>6.3</td>\n",
       "      <td>4466</td>\n",
       "      <td>Spectre</td>\n",
       "      <td>[{\"cast_id\": 1, \"character\": \"James Bond\", \"cr...</td>\n",
       "      <td>[{\"credit_id\": \"54805967c3a36829b5002c41\", \"de...</td>\n",
       "    </tr>\n",
       "    <tr>\n",
       "      <th>3</th>\n",
       "      <td>250000000</td>\n",
       "      <td>[{\"id\": 28, \"name\": \"Action\"}, {\"id\": 80, \"nam...</td>\n",
       "      <td>http://www.thedarkknightrises.com/</td>\n",
       "      <td>49026</td>\n",
       "      <td>[{\"id\": 849, \"name\": \"dc comics\"}, {\"id\": 853,...</td>\n",
       "      <td>en</td>\n",
       "      <td>The Dark Knight Rises</td>\n",
       "      <td>Following the death of District Attorney Harve...</td>\n",
       "      <td>112.312950</td>\n",
       "      <td>[{\"name\": \"Legendary Pictures\", \"id\": 923}, {\"...</td>\n",
       "      <td>...</td>\n",
       "      <td>165.0</td>\n",
       "      <td>[{\"iso_639_1\": \"en\", \"name\": \"English\"}]</td>\n",
       "      <td>Released</td>\n",
       "      <td>The Legend Ends</td>\n",
       "      <td>The Dark Knight Rises</td>\n",
       "      <td>7.6</td>\n",
       "      <td>9106</td>\n",
       "      <td>The Dark Knight Rises</td>\n",
       "      <td>[{\"cast_id\": 2, \"character\": \"Bruce Wayne / Ba...</td>\n",
       "      <td>[{\"credit_id\": \"52fe4781c3a36847f81398c3\", \"de...</td>\n",
       "    </tr>\n",
       "    <tr>\n",
       "      <th>4</th>\n",
       "      <td>260000000</td>\n",
       "      <td>[{\"id\": 28, \"name\": \"Action\"}, {\"id\": 12, \"nam...</td>\n",
       "      <td>http://movies.disney.com/john-carter</td>\n",
       "      <td>49529</td>\n",
       "      <td>[{\"id\": 818, \"name\": \"based on novel\"}, {\"id\":...</td>\n",
       "      <td>en</td>\n",
       "      <td>John Carter</td>\n",
       "      <td>John Carter is a war-weary, former military ca...</td>\n",
       "      <td>43.926995</td>\n",
       "      <td>[{\"name\": \"Walt Disney Pictures\", \"id\": 2}]</td>\n",
       "      <td>...</td>\n",
       "      <td>132.0</td>\n",
       "      <td>[{\"iso_639_1\": \"en\", \"name\": \"English\"}]</td>\n",
       "      <td>Released</td>\n",
       "      <td>Lost in our world, found in another.</td>\n",
       "      <td>John Carter</td>\n",
       "      <td>6.1</td>\n",
       "      <td>2124</td>\n",
       "      <td>John Carter</td>\n",
       "      <td>[{\"cast_id\": 5, \"character\": \"John Carter\", \"c...</td>\n",
       "      <td>[{\"credit_id\": \"52fe479ac3a36847f813eaa3\", \"de...</td>\n",
       "    </tr>\n",
       "  </tbody>\n",
       "</table>\n",
       "<p>5 rows × 23 columns</p>\n",
       "</div>"
      ],
      "text/plain": [
       "      budget                                             genres  \\\n",
       "0  237000000  [{\"id\": 28, \"name\": \"Action\"}, {\"id\": 12, \"nam...   \n",
       "1  300000000  [{\"id\": 12, \"name\": \"Adventure\"}, {\"id\": 14, \"...   \n",
       "2  245000000  [{\"id\": 28, \"name\": \"Action\"}, {\"id\": 12, \"nam...   \n",
       "3  250000000  [{\"id\": 28, \"name\": \"Action\"}, {\"id\": 80, \"nam...   \n",
       "4  260000000  [{\"id\": 28, \"name\": \"Action\"}, {\"id\": 12, \"nam...   \n",
       "\n",
       "                                       homepage      id  \\\n",
       "0                   http://www.avatarmovie.com/   19995   \n",
       "1  http://disney.go.com/disneypictures/pirates/     285   \n",
       "2   http://www.sonypictures.com/movies/spectre/  206647   \n",
       "3            http://www.thedarkknightrises.com/   49026   \n",
       "4          http://movies.disney.com/john-carter   49529   \n",
       "\n",
       "                                            keywords original_language  \\\n",
       "0  [{\"id\": 1463, \"name\": \"culture clash\"}, {\"id\":...                en   \n",
       "1  [{\"id\": 270, \"name\": \"ocean\"}, {\"id\": 726, \"na...                en   \n",
       "2  [{\"id\": 470, \"name\": \"spy\"}, {\"id\": 818, \"name...                en   \n",
       "3  [{\"id\": 849, \"name\": \"dc comics\"}, {\"id\": 853,...                en   \n",
       "4  [{\"id\": 818, \"name\": \"based on novel\"}, {\"id\":...                en   \n",
       "\n",
       "                             original_title  \\\n",
       "0                                    Avatar   \n",
       "1  Pirates of the Caribbean: At World's End   \n",
       "2                                   Spectre   \n",
       "3                     The Dark Knight Rises   \n",
       "4                               John Carter   \n",
       "\n",
       "                                            overview  popularity  \\\n",
       "0  In the 22nd century, a paraplegic Marine is di...  150.437577   \n",
       "1  Captain Barbossa, long believed to be dead, ha...  139.082615   \n",
       "2  A cryptic message from Bond’s past sends him o...  107.376788   \n",
       "3  Following the death of District Attorney Harve...  112.312950   \n",
       "4  John Carter is a war-weary, former military ca...   43.926995   \n",
       "\n",
       "                                production_companies  ... runtime  \\\n",
       "0  [{\"name\": \"Ingenious Film Partners\", \"id\": 289...  ...   162.0   \n",
       "1  [{\"name\": \"Walt Disney Pictures\", \"id\": 2}, {\"...  ...   169.0   \n",
       "2  [{\"name\": \"Columbia Pictures\", \"id\": 5}, {\"nam...  ...   148.0   \n",
       "3  [{\"name\": \"Legendary Pictures\", \"id\": 923}, {\"...  ...   165.0   \n",
       "4        [{\"name\": \"Walt Disney Pictures\", \"id\": 2}]  ...   132.0   \n",
       "\n",
       "                                    spoken_languages    status  \\\n",
       "0  [{\"iso_639_1\": \"en\", \"name\": \"English\"}, {\"iso...  Released   \n",
       "1           [{\"iso_639_1\": \"en\", \"name\": \"English\"}]  Released   \n",
       "2  [{\"iso_639_1\": \"fr\", \"name\": \"Fran\\u00e7ais\"},...  Released   \n",
       "3           [{\"iso_639_1\": \"en\", \"name\": \"English\"}]  Released   \n",
       "4           [{\"iso_639_1\": \"en\", \"name\": \"English\"}]  Released   \n",
       "\n",
       "                                          tagline  \\\n",
       "0                     Enter the World of Pandora.   \n",
       "1  At the end of the world, the adventure begins.   \n",
       "2                           A Plan No One Escapes   \n",
       "3                                 The Legend Ends   \n",
       "4            Lost in our world, found in another.   \n",
       "\n",
       "                                      title vote_average vote_count  \\\n",
       "0                                    Avatar          7.2      11800   \n",
       "1  Pirates of the Caribbean: At World's End          6.9       4500   \n",
       "2                                   Spectre          6.3       4466   \n",
       "3                     The Dark Knight Rises          7.6       9106   \n",
       "4                               John Carter          6.1       2124   \n",
       "\n",
       "                                     tittle  \\\n",
       "0                                    Avatar   \n",
       "1  Pirates of the Caribbean: At World's End   \n",
       "2                                   Spectre   \n",
       "3                     The Dark Knight Rises   \n",
       "4                               John Carter   \n",
       "\n",
       "                                                cast  \\\n",
       "0  [{\"cast_id\": 242, \"character\": \"Jake Sully\", \"...   \n",
       "1  [{\"cast_id\": 4, \"character\": \"Captain Jack Spa...   \n",
       "2  [{\"cast_id\": 1, \"character\": \"James Bond\", \"cr...   \n",
       "3  [{\"cast_id\": 2, \"character\": \"Bruce Wayne / Ba...   \n",
       "4  [{\"cast_id\": 5, \"character\": \"John Carter\", \"c...   \n",
       "\n",
       "                                                crew  \n",
       "0  [{\"credit_id\": \"52fe48009251416c750aca23\", \"de...  \n",
       "1  [{\"credit_id\": \"52fe4232c3a36847f800b579\", \"de...  \n",
       "2  [{\"credit_id\": \"54805967c3a36829b5002c41\", \"de...  \n",
       "3  [{\"credit_id\": \"52fe4781c3a36847f81398c3\", \"de...  \n",
       "4  [{\"credit_id\": \"52fe479ac3a36847f813eaa3\", \"de...  \n",
       "\n",
       "[5 rows x 23 columns]"
      ]
     },
     "execution_count": 16,
     "metadata": {},
     "output_type": "execute_result"
    }
   ],
   "source": [
    "df2.head()"
   ]
  },
  {
   "cell_type": "code",
   "execution_count": 17,
   "id": "ea7959bc",
   "metadata": {
    "execution": {
     "iopub.execute_input": "2023-10-15T11:00:52.756947Z",
     "iopub.status.busy": "2023-10-15T11:00:52.756318Z",
     "iopub.status.idle": "2023-10-15T11:00:52.761143Z",
     "shell.execute_reply": "2023-10-15T11:00:52.760115Z"
    },
    "papermill": {
     "duration": 0.015607,
     "end_time": "2023-10-15T11:00:52.763171",
     "exception": false,
     "start_time": "2023-10-15T11:00:52.747564",
     "status": "completed"
    },
    "tags": []
   },
   "outputs": [],
   "source": [
    "# parse the string text to python object\n",
    "from ast import literal_eval\n",
    "\n",
    "features = [\"cast\", \"crew\", \"keywords\", \"genres\"] "
   ]
  }
 ],
 "metadata": {
  "kernelspec": {
   "display_name": "Python 3",
   "language": "python",
   "name": "python3"
  },
  "language_info": {
   "codemirror_mode": {
    "name": "ipython",
    "version": 3
   },
   "file_extension": ".py",
   "mimetype": "text/x-python",
   "name": "python",
   "nbconvert_exporter": "python",
   "pygments_lexer": "ipython3",
   "version": "3.10.12"
  },
  "papermill": {
   "default_parameters": {},
   "duration": 13.742329,
   "end_time": "2023-10-15T11:00:53.693371",
   "environment_variables": {},
   "exception": null,
   "input_path": "__notebook__.ipynb",
   "output_path": "__notebook__.ipynb",
   "parameters": {},
   "start_time": "2023-10-15T11:00:39.951042",
   "version": "2.4.0"
  }
 },
 "nbformat": 4,
 "nbformat_minor": 5
}
